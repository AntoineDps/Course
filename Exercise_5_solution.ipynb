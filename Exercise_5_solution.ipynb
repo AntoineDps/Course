{
  "nbformat": 4,
  "nbformat_minor": 0,
  "metadata": {
    "colab": {
      "provenance": []
    },
    "kernelspec": {
      "display_name": "Python 3",
      "language": "python",
      "name": "python3"
    },
    "language_info": {
      "codemirror_mode": {
        "name": "ipython",
        "version": 3
      },
      "file_extension": ".py",
      "mimetype": "text/x-python",
      "name": "python",
      "nbconvert_exporter": "python",
      "pygments_lexer": "ipython3",
      "version": "3.6.9"
    }
  },
  "cells": [
    {
      "cell_type": "markdown",
      "metadata": {
        "id": "rF2trPuyzm9C"
      },
      "source": [
        "# Exercise 5.1 - Solution\n"
      ]
    },
    {
      "cell_type": "code",
      "metadata": {
        "id": "ipcsUFDUzm9C"
      },
      "source": [
        "import numpy as np\n",
        "import matplotlib.pyplot as plt"
      ],
      "execution_count": null,
      "outputs": []
    },
    {
      "cell_type": "markdown",
      "metadata": {
        "id": "MCJe_ITJzm9G"
      },
      "source": [
        "**Simple Network**\n",
        "\n",
        "We continue with the dataset first encountered in the previous exercise. Please refer to the discussion there for an introduction to the data and the learning objective.\n",
        "\n",
        "Here, we manually implement a simple network architecture"
      ]
    },
    {
      "cell_type": "code",
      "metadata": {
        "colab": {
          "base_uri": "https://localhost:8080/"
        },
        "id": "NopU99AT9G7s",
        "outputId": "e7502f3d-87e0-4614-ffce-47cbf07a68a3"
      },
      "source": [
        "# The code snippet below is responsible for downloading the dataset\n",
        "# - for example when running via Google Colab.\n",
        "#\n",
        "# You can also directly download the file using the link if you work\n",
        "# with a local setup (in that case, ignore the !wget)\n",
        "\n",
        "!wget https://archive.ics.uci.edu/ml/machine-learning-databases/wine-quality/winequality-white.csv"
      ],
      "execution_count": null,
      "outputs": [
        {
          "output_type": "stream",
          "name": "stdout",
          "text": [
            "--2022-09-27 19:08:52--  https://archive.ics.uci.edu/ml/machine-learning-databases/wine-quality/winequality-white.csv\n",
            "Resolving archive.ics.uci.edu (archive.ics.uci.edu)... 128.195.10.252\n",
            "Connecting to archive.ics.uci.edu (archive.ics.uci.edu)|128.195.10.252|:443... connected.\n",
            "HTTP request sent, awaiting response... 200 OK\n",
            "Length: 264426 (258K) [application/x-httpd-php]\n",
            "Saving to: ‘winequality-white.csv.2’\n",
            "\n",
            "winequality-white.c 100%[===================>] 258.23K   499KB/s    in 0.5s    \n",
            "\n",
            "2022-09-27 19:08:53 (499 KB/s) - ‘winequality-white.csv.2’ saved [264426/264426]\n",
            "\n"
          ]
        }
      ]
    },
    {
      "cell_type": "code",
      "metadata": {
        "colab": {
          "base_uri": "https://localhost:8080/"
        },
        "id": "5ONqeI5Uzm9H",
        "outputId": "030c1174-6396-43e6-c04f-0ac9ffc7dbd3"
      },
      "source": [
        "# Before working with the data, \n",
        "# we download and prepare all features\n",
        "\n",
        "# load all examples from the file\n",
        "data = np.genfromtxt('winequality-white.csv',delimiter=\";\",skip_header=1)\n",
        "\n",
        "print(\"data:\", data.shape)\n",
        "\n",
        "# Prepare for proper training\n",
        "np.random.shuffle(data) # randomly sort examples\n",
        "\n",
        "# the performance can be increased by normalizing the data per feature\n",
        "# Normalize\n",
        "mean = np.mean(data, axis=0)\n",
        "std = np.std(data, axis = 0)\n",
        "print(mean.shape)\n",
        "\n",
        "data = (data - mean)/std\n",
        "\n",
        "# take the first 3000 examples for training\n",
        "# (remember array slicing from last week)\n",
        "X_train = data[:3000,:11] # all features except last column\n",
        "y_train = data[:3000,11]  # quality column\n",
        "\n",
        "# and the remaining examples for testing\n",
        "X_test = data[3000:,:11] # all features except last column\n",
        "y_test = data[3000:,11] # quality column\n",
        "\n",
        "print(\"First example:\")\n",
        "print(\"Features:\", X_train[0])\n",
        "print(\"Quality:\", y_train[0])"
      ],
      "execution_count": null,
      "outputs": [
        {
          "output_type": "stream",
          "name": "stdout",
          "text": [
            "data: (4898, 12)\n",
            "(12,)\n",
            "First example:\n",
            "Features: [ 0.527639   -0.18099175 -0.03463842  1.06645815  0.51395124  0.74634612\n",
            " -0.26734905  0.97058182 -0.58460464  0.527131   -0.41793512]\n",
            "Quality: 0.13787014016904114\n"
          ]
        }
      ]
    },
    {
      "cell_type": "markdown",
      "metadata": {
        "id": "jiwnyNHpzm9L"
      },
      "source": [
        "# Solutions\n",
        "\n",
        "The goal is to implement the training of a neural network with one input layer, one hidden layer, and one output layer using gradient descent. We first (below) define the matrices and initialise with random values. We need W, b, W' and b'. The shapes will be:\n",
        "  * W: (number of hidden nodes, number of inputs) named `W`\n",
        "  * b: (number of hidden nodes) named `b`\n",
        "  * W': (number of hidden nodes) named `Wp`\n",
        "  * b': (one) named `bp`\n",
        "\n",
        "Your tasks are:     \n",
        "   * Implement a forward pass of the network as `dnn` (see below)\n",
        "   * Implement a function that uses one data point to update the weights using gradient descent. You can follow the `update_weights` skeleton below\n",
        "   * Now you can use the code below (training loop and evaluation) to train the network for multiple data points and even over several epochs. Try to find a set of hyperparameters (number of nodes in the hidden layer, learning rate, number of training epochs) that gives stable results. What is the best result (as measured by the loss on the training sample) you can get?"
      ]
    },
    {
      "cell_type": "code",
      "metadata": {
        "id": "nBm-DkpLglYe",
        "colab": {
          "base_uri": "https://localhost:8080/"
        },
        "outputId": "bcd53cc9-229d-4018-f91d-65354800d19f"
      },
      "source": [
        "# Initialise weights with suitable random distributions\n",
        "hidden_nodes = 50 # number of nodes in the hidden layer\n",
        "n_inputs = 11 # input features in the dataset\n",
        "\n",
        "\n",
        "W = np.random.randn(hidden_nodes,11)*np.sqrt(2./n_inputs)\n",
        "# b = np.random.randn(hidden_nodes)*np.sqrt(2./n_inputs)\n",
        "b = np.zeros(hidden_nodes)\n",
        "Wp = np.random.randn(hidden_nodes)*np.sqrt(2./hidden_nodes)\n",
        "bp = np.zeros(1)\n",
        "\n",
        "print(W.shape)"
      ],
      "execution_count": null,
      "outputs": [
        {
          "output_type": "stream",
          "name": "stdout",
          "text": [
            "(50, 11)\n"
          ]
        }
      ]
    },
    {
      "cell_type": "code",
      "metadata": {
        "id": "YJ5euq5nglYf"
      },
      "source": [
        "# You can use this implementation of the ReLu activation function\n",
        "def relu(x):\n",
        "    return np.maximum(x, 0)"
      ],
      "execution_count": null,
      "outputs": []
    },
    {
      "cell_type": "code",
      "metadata": {
        "id": "kOlgGIZPglYg"
      },
      "source": [
        "def dnn(x,W,b,Wp,bp):\n",
        "    # SOLUTION\n",
        "    # sum_i W'_ki*Relu(sum_j W_ij*x_j + b_i) + b'_k \n",
        "    return np.dot(Wp, relu(np.dot(W,x) + b)) + bp"
      ],
      "execution_count": null,
      "outputs": []
    },
    {
      "cell_type": "code",
      "metadata": {
        "id": "8iKDPKR7glYg"
      },
      "source": [
        "def update_weights(x,y, W, b, Wp, bp):\n",
        "    \n",
        "    lr = 0.00005\n",
        "\n",
        "    # SOLUTION\n",
        "\n",
        "    # Calculate the network output\n",
        "    phi = dnn(x,W,b,Wp,bp)\n",
        "\n",
        "    # Use the formulas derived to calculate the gradient for each of W,b,Wp,bp\n",
        "    delta_bp = 2 * (phi - y)\n",
        "    delta_Wp = 2 * (phi - y) * relu(np.dot(W,x) + b)\n",
        "    delta_b  = 2 * (phi - y) * Wp * np.heaviside(np.dot(W,x) + b, 0.5)\n",
        "    delta_W  = 2 * (phi - y) * np.outer(Wp * np.heaviside(np.dot(W,x) + b, 0.5), x)\n",
        "                \n",
        "    # Update the weights/bias following the rule:  X_new = X_old - learning_rate * gradient    \n",
        "    bp -= lr * delta_bp\n",
        "    Wp -= lr * delta_Wp\n",
        "    b  -= lr * delta_b\n",
        "    W  -= lr * delta_W\n",
        "    return W, b, Wp, bp  # it is cleaner to explicitely return the new weights. "
      ],
      "execution_count": null,
      "outputs": []
    },
    {
      "cell_type": "markdown",
      "metadata": {
        "id": "cA4yIPZBglYh"
      },
      "source": [
        "# Training loop and evaluation below"
      ]
    },
    {
      "cell_type": "code",
      "metadata": {
        "id": "d285Cw67glYh",
        "colab": {
          "base_uri": "https://localhost:8080/"
        },
        "outputId": "5ecd9fcd-b561-4e20-e7ce-73906a3a5614"
      },
      "source": [
        "# The code below implements the training.\n",
        "# If you correctly implement  dnn and update_weights above, \n",
        "# you should not need to change anything below. \n",
        "# (apart from increasing the number of epochs)\n",
        "\n",
        "train_losses = []\n",
        "test_losses = []\n",
        "\n",
        "# How many epochs to train\n",
        "n_epochs = 200\n",
        "\n",
        "# Loop over the epochs\n",
        "for ep in range(n_epochs):\n",
        "        \n",
        "    # Each epoch is a complete over the training data\n",
        "    for i in range(X_train.shape[0]):\n",
        "        \n",
        "        # pick one example\n",
        "        x = X_train[i]\n",
        "        y = y_train[i]\n",
        "\n",
        "        # use it to update the weights\n",
        "        W, b, Wp, bp = update_weights(x,y, W, b, Wp, bp)\n",
        "    \n",
        "    # Calculate predictions for the full training and testing sample\n",
        "    y_pred_train = [dnn(x,W,b,Wp,bp)[0] for x in X_train]\n",
        "    y_pred = [dnn(x,W,b,Wp,bp)[0] for x in X_test]\n",
        "\n",
        "    # Calculate aver loss / example over the epoch\n",
        "    train_loss = sum((y_pred_train-y_train)**2) / y_train.shape[0]\n",
        "    test_loss = sum((y_pred-y_test)**2) / y_test.shape[0] \n",
        "    \n",
        "    # print some information\n",
        "    print(\"Epoch:\",ep, \"Train Loss:\", train_loss, \"Test Loss:\", test_loss)\n",
        "    \n",
        "    # and store the losses for later use\n",
        "    train_losses.append(train_loss)\n",
        "    test_losses.append(test_loss)"
      ],
      "execution_count": null,
      "outputs": [
        {
          "output_type": "stream",
          "name": "stdout",
          "text": [
            "Epoch: 0 Train Loss: 0.9918851072505133 Test Loss: 0.9437235263946622\n",
            "Epoch: 1 Train Loss: 0.8539353363070646 Test Loss: 0.8170544596491086\n",
            "Epoch: 2 Train Loss: 0.8098654285399208 Test Loss: 0.7787141101404811\n",
            "Epoch: 3 Train Loss: 0.7864232962142866 Test Loss: 0.7590572587870429\n",
            "Epoch: 4 Train Loss: 0.7700840459173142 Test Loss: 0.7455918718301999\n",
            "Epoch: 5 Train Loss: 0.7573779537115456 Test Loss: 0.7352238844408449\n",
            "Epoch: 6 Train Loss: 0.74697031649237 Test Loss: 0.7268195364361066\n",
            "Epoch: 7 Train Loss: 0.7381950792835916 Test Loss: 0.7197999530174213\n",
            "Epoch: 8 Train Loss: 0.7306565228947146 Test Loss: 0.7138166894737549\n",
            "Epoch: 9 Train Loss: 0.7241003580174357 Test Loss: 0.7086470925618911\n",
            "Epoch: 10 Train Loss: 0.718300241003529 Test Loss: 0.7040884345943976\n",
            "Epoch: 11 Train Loss: 0.7131303562696022 Test Loss: 0.7000284967978013\n",
            "Epoch: 12 Train Loss: 0.7085015436380218 Test Loss: 0.6964030081592022\n",
            "Epoch: 13 Train Loss: 0.7043211639917011 Test Loss: 0.6931453659592702\n",
            "Epoch: 14 Train Loss: 0.7005347310897386 Test Loss: 0.6902052980773943\n",
            "Epoch: 15 Train Loss: 0.6970828296409518 Test Loss: 0.6875426022198844\n",
            "Epoch: 16 Train Loss: 0.6939282454764031 Test Loss: 0.6851139877530196\n",
            "Epoch: 17 Train Loss: 0.6910333300412104 Test Loss: 0.6828827868830903\n",
            "Epoch: 18 Train Loss: 0.6883707886579146 Test Loss: 0.6808394059363901\n",
            "Epoch: 19 Train Loss: 0.6859098401917959 Test Loss: 0.6789703099589743\n",
            "Epoch: 20 Train Loss: 0.6836431809306176 Test Loss: 0.6772528774062095\n",
            "Epoch: 21 Train Loss: 0.6815337766996303 Test Loss: 0.6756603485122262\n",
            "Epoch: 22 Train Loss: 0.6795623028541485 Test Loss: 0.6741859272348306\n",
            "Epoch: 23 Train Loss: 0.6777148834590229 Test Loss: 0.6728057230852279\n",
            "Epoch: 24 Train Loss: 0.6759821680609314 Test Loss: 0.6715192829340728\n",
            "Epoch: 25 Train Loss: 0.6743516570800373 Test Loss: 0.670317618454419\n",
            "Epoch: 26 Train Loss: 0.6728212301934773 Test Loss: 0.6691939494136528\n",
            "Epoch: 27 Train Loss: 0.6713768267164044 Test Loss: 0.6681395134871149\n",
            "Epoch: 28 Train Loss: 0.6700120046510696 Test Loss: 0.6671484631655877\n",
            "Epoch: 29 Train Loss: 0.6687208410968477 Test Loss: 0.666221382128213\n",
            "Epoch: 30 Train Loss: 0.6674993381886462 Test Loss: 0.6653503364595422\n",
            "Epoch: 31 Train Loss: 0.6663359197378768 Test Loss: 0.6645303621354283\n",
            "Epoch: 32 Train Loss: 0.665230995340108 Test Loss: 0.6637552907097762\n",
            "Epoch: 33 Train Loss: 0.6641767208661299 Test Loss: 0.663016150871849\n",
            "Epoch: 34 Train Loss: 0.663173464258023 Test Loss: 0.6623142129145835\n",
            "Epoch: 35 Train Loss: 0.6622149702377108 Test Loss: 0.6616479949987877\n",
            "Epoch: 36 Train Loss: 0.6612992261870828 Test Loss: 0.6610182671243733\n",
            "Epoch: 37 Train Loss: 0.660424485949666 Test Loss: 0.6604185131725026\n",
            "Epoch: 38 Train Loss: 0.659586766898926 Test Loss: 0.659844732335506\n",
            "Epoch: 39 Train Loss: 0.6587856002040534 Test Loss: 0.6593004331516642\n",
            "Epoch: 40 Train Loss: 0.6580196810737633 Test Loss: 0.6587810497202211\n",
            "Epoch: 41 Train Loss: 0.6572863569666775 Test Loss: 0.658291432870593\n",
            "Epoch: 42 Train Loss: 0.6565824185127884 Test Loss: 0.6578283855203159\n",
            "Epoch: 43 Train Loss: 0.655906552921044 Test Loss: 0.6573888564936845\n",
            "Epoch: 44 Train Loss: 0.6552540819705677 Test Loss: 0.6569675424877307\n",
            "Epoch: 45 Train Loss: 0.6546254108403493 Test Loss: 0.6565684887566291\n",
            "Epoch: 46 Train Loss: 0.6540166269113249 Test Loss: 0.6561866394243742\n",
            "Epoch: 47 Train Loss: 0.6534276451188153 Test Loss: 0.6558216159177876\n",
            "Epoch: 48 Train Loss: 0.6528593032978381 Test Loss: 0.6554710092754835\n",
            "Epoch: 49 Train Loss: 0.6523120473589672 Test Loss: 0.6551343637637064\n",
            "Epoch: 50 Train Loss: 0.6517792509223465 Test Loss: 0.6548098635664998\n",
            "Epoch: 51 Train Loss: 0.6512625368156081 Test Loss: 0.6544986166705571\n",
            "Epoch: 52 Train Loss: 0.6507631297248159 Test Loss: 0.6542010638209601\n",
            "Epoch: 53 Train Loss: 0.650278247769335 Test Loss: 0.6539138572355863\n",
            "Epoch: 54 Train Loss: 0.6498039749375243 Test Loss: 0.6536333666713656\n",
            "Epoch: 55 Train Loss: 0.6493421413062747 Test Loss: 0.65336368222802\n",
            "Epoch: 56 Train Loss: 0.6488911225974832 Test Loss: 0.6531010729463955\n",
            "Epoch: 57 Train Loss: 0.6484496954302063 Test Loss: 0.6528461609409129\n",
            "Epoch: 58 Train Loss: 0.6480175370450643 Test Loss: 0.6526003738256669\n",
            "Epoch: 59 Train Loss: 0.6475963542453279 Test Loss: 0.6523642358735272\n",
            "Epoch: 60 Train Loss: 0.647185465660025 Test Loss: 0.6521360536630618\n",
            "Epoch: 61 Train Loss: 0.6467835545231343 Test Loss: 0.6519156920823307\n",
            "Epoch: 62 Train Loss: 0.6463906300283166 Test Loss: 0.6516976464748889\n",
            "Epoch: 63 Train Loss: 0.646009388063929 Test Loss: 0.6514892757408147\n",
            "Epoch: 64 Train Loss: 0.6456416839121798 Test Loss: 0.6512906602273265\n",
            "Epoch: 65 Train Loss: 0.6452819417430035 Test Loss: 0.6510907105786539\n",
            "Epoch: 66 Train Loss: 0.6449318656997203 Test Loss: 0.6508968242661486\n",
            "Epoch: 67 Train Loss: 0.64458975298751 Test Loss: 0.6507121185365611\n",
            "Epoch: 68 Train Loss: 0.6442553454543866 Test Loss: 0.6505322152885195\n",
            "Epoch: 69 Train Loss: 0.643928173310011 Test Loss: 0.6503609298401758\n",
            "Epoch: 70 Train Loss: 0.6436054914347298 Test Loss: 0.6501891632651066\n",
            "Epoch: 71 Train Loss: 0.6432897912075083 Test Loss: 0.650021200841024\n",
            "Epoch: 72 Train Loss: 0.6429802955181856 Test Loss: 0.6498576485520678\n",
            "Epoch: 73 Train Loss: 0.6426746283287521 Test Loss: 0.6496965425042475\n",
            "Epoch: 74 Train Loss: 0.6423720913857769 Test Loss: 0.6495438635418688\n",
            "Epoch: 75 Train Loss: 0.6420773923576145 Test Loss: 0.6493960203150319\n",
            "Epoch: 76 Train Loss: 0.6417888290686552 Test Loss: 0.649249743486946\n",
            "Epoch: 77 Train Loss: 0.6415036633719117 Test Loss: 0.6491053831553519\n",
            "Epoch: 78 Train Loss: 0.6412246505174668 Test Loss: 0.6489647452763065\n",
            "Epoch: 79 Train Loss: 0.6409500645956161 Test Loss: 0.6488299938348923\n",
            "Epoch: 80 Train Loss: 0.6406810038864877 Test Loss: 0.6487006573123784\n",
            "Epoch: 81 Train Loss: 0.6404164659384505 Test Loss: 0.6485757889753588\n",
            "Epoch: 82 Train Loss: 0.6401561017435193 Test Loss: 0.6484561040667495\n",
            "Epoch: 83 Train Loss: 0.6398978850210006 Test Loss: 0.6483386981597972\n",
            "Epoch: 84 Train Loss: 0.6396444206468062 Test Loss: 0.6482239838652291\n",
            "Epoch: 85 Train Loss: 0.639393368013215 Test Loss: 0.6481112208192823\n",
            "Epoch: 86 Train Loss: 0.6391463927113759 Test Loss: 0.647999920291333\n",
            "Epoch: 87 Train Loss: 0.6389030137702635 Test Loss: 0.6478953752645138\n",
            "Epoch: 88 Train Loss: 0.638663967295462 Test Loss: 0.6477925590660701\n",
            "Epoch: 89 Train Loss: 0.6384261909855159 Test Loss: 0.6476889074441\n",
            "Epoch: 90 Train Loss: 0.6381931147399137 Test Loss: 0.6475920537867798\n",
            "Epoch: 91 Train Loss: 0.63796348893448 Test Loss: 0.6475038859204891\n",
            "Epoch: 92 Train Loss: 0.6377364813679838 Test Loss: 0.6474157100893975\n",
            "Epoch: 93 Train Loss: 0.6375114897686933 Test Loss: 0.6473273873409637\n",
            "Epoch: 94 Train Loss: 0.6372894869201836 Test Loss: 0.6472447932124182\n",
            "Epoch: 95 Train Loss: 0.6370687508781842 Test Loss: 0.6471641342146597\n",
            "Epoch: 96 Train Loss: 0.6368487311539004 Test Loss: 0.6470815878684132\n",
            "Epoch: 97 Train Loss: 0.636629616339908 Test Loss: 0.6470020710592951\n",
            "Epoch: 98 Train Loss: 0.6364098737884504 Test Loss: 0.6469224363391285\n",
            "Epoch: 99 Train Loss: 0.636192218280857 Test Loss: 0.6468428114278452\n",
            "Epoch: 100 Train Loss: 0.63597593037179 Test Loss: 0.6467640169754655\n",
            "Epoch: 101 Train Loss: 0.6357610696777313 Test Loss: 0.6466857655954328\n",
            "Epoch: 102 Train Loss: 0.6355475886698192 Test Loss: 0.6466076132023595\n",
            "Epoch: 103 Train Loss: 0.6353377170962112 Test Loss: 0.6465280201210054\n",
            "Epoch: 104 Train Loss: 0.635129396588202 Test Loss: 0.6464505642435212\n",
            "Epoch: 105 Train Loss: 0.6349220362003546 Test Loss: 0.6463706899647238\n",
            "Epoch: 106 Train Loss: 0.6347173726841154 Test Loss: 0.646292533483417\n",
            "Epoch: 107 Train Loss: 0.6345129106047935 Test Loss: 0.6462084213530002\n",
            "Epoch: 108 Train Loss: 0.6343106719183822 Test Loss: 0.6461296721700179\n",
            "Epoch: 109 Train Loss: 0.6341080776412966 Test Loss: 0.6460519657653498\n",
            "Epoch: 110 Train Loss: 0.6339084396624364 Test Loss: 0.6459745166547565\n",
            "Epoch: 111 Train Loss: 0.6337100677062371 Test Loss: 0.6458983784104226\n",
            "Epoch: 112 Train Loss: 0.6335111253672241 Test Loss: 0.6458174746351033\n",
            "Epoch: 113 Train Loss: 0.6333118636794055 Test Loss: 0.6457363749508974\n",
            "Epoch: 114 Train Loss: 0.6331118781624889 Test Loss: 0.6456539432188206\n",
            "Epoch: 115 Train Loss: 0.6329118063022228 Test Loss: 0.6455705083909135\n",
            "Epoch: 116 Train Loss: 0.6327117332308808 Test Loss: 0.6454906675432197\n",
            "Epoch: 117 Train Loss: 0.6325120712872877 Test Loss: 0.6454109691884717\n",
            "Epoch: 118 Train Loss: 0.6323177546495405 Test Loss: 0.6453360189805558\n",
            "Epoch: 119 Train Loss: 0.6321243591101364 Test Loss: 0.6452628263326753\n",
            "Epoch: 120 Train Loss: 0.6319334914056247 Test Loss: 0.6451898878543394\n",
            "Epoch: 121 Train Loss: 0.6317440899558717 Test Loss: 0.6451165036049815\n",
            "Epoch: 122 Train Loss: 0.6315551233039451 Test Loss: 0.6450438536819478\n",
            "Epoch: 123 Train Loss: 0.6313665204112393 Test Loss: 0.6449727728409965\n",
            "Epoch: 124 Train Loss: 0.631178476849953 Test Loss: 0.644901762677868\n",
            "Epoch: 125 Train Loss: 0.6309903157394265 Test Loss: 0.6448294435080204\n",
            "Epoch: 126 Train Loss: 0.630801199851477 Test Loss: 0.6447572090944689\n",
            "Epoch: 127 Train Loss: 0.6306147315127272 Test Loss: 0.6446868644613074\n",
            "Epoch: 128 Train Loss: 0.6304284834346277 Test Loss: 0.6446192424099956\n",
            "Epoch: 129 Train Loss: 0.6302409339280387 Test Loss: 0.6445487248595556\n",
            "Epoch: 130 Train Loss: 0.6300539288904373 Test Loss: 0.6444820183760136\n",
            "Epoch: 131 Train Loss: 0.6298674334239994 Test Loss: 0.6444154163166653\n",
            "Epoch: 132 Train Loss: 0.629680520678008 Test Loss: 0.6443467347752087\n",
            "Epoch: 133 Train Loss: 0.6294939210852717 Test Loss: 0.6442774145163341\n",
            "Epoch: 134 Train Loss: 0.6293077711610855 Test Loss: 0.6442065442292793\n",
            "Epoch: 135 Train Loss: 0.6291211673053263 Test Loss: 0.6441374172149402\n",
            "Epoch: 136 Train Loss: 0.6289343483456851 Test Loss: 0.6440674135757866\n",
            "Epoch: 137 Train Loss: 0.6287504576119989 Test Loss: 0.643997689085458\n",
            "Epoch: 138 Train Loss: 0.6285691202059444 Test Loss: 0.6439263266397343\n",
            "Epoch: 139 Train Loss: 0.628391282020249 Test Loss: 0.643858076930533\n",
            "Epoch: 140 Train Loss: 0.6282157982686852 Test Loss: 0.6437950674090229\n",
            "Epoch: 141 Train Loss: 0.6280415308608527 Test Loss: 0.643729700517236\n",
            "Epoch: 142 Train Loss: 0.6278686948413769 Test Loss: 0.643662181031518\n",
            "Epoch: 143 Train Loss: 0.6276949718307212 Test Loss: 0.6435923687585758\n",
            "Epoch: 144 Train Loss: 0.627522283520598 Test Loss: 0.6435219052879296\n",
            "Epoch: 145 Train Loss: 0.6273490245282937 Test Loss: 0.6434505242524431\n",
            "Epoch: 146 Train Loss: 0.6271756596564128 Test Loss: 0.6433830545025662\n",
            "Epoch: 147 Train Loss: 0.6270008568697477 Test Loss: 0.6433174267818456\n",
            "Epoch: 148 Train Loss: 0.6268277598852697 Test Loss: 0.6432528863756825\n",
            "Epoch: 149 Train Loss: 0.6266558804494169 Test Loss: 0.6431889829308908\n",
            "Epoch: 150 Train Loss: 0.6264864894798162 Test Loss: 0.6431235241509\n",
            "Epoch: 151 Train Loss: 0.6263181518774704 Test Loss: 0.6430580571300593\n",
            "Epoch: 152 Train Loss: 0.6261498246532875 Test Loss: 0.6429918816935355\n",
            "Epoch: 153 Train Loss: 0.6259827846331844 Test Loss: 0.6429241276141477\n",
            "Epoch: 154 Train Loss: 0.6258165049671384 Test Loss: 0.6428596776910341\n",
            "Epoch: 155 Train Loss: 0.6256501623546247 Test Loss: 0.6427930332504975\n",
            "Epoch: 156 Train Loss: 0.6254838297053924 Test Loss: 0.6427282221527681\n",
            "Epoch: 157 Train Loss: 0.6253184947766914 Test Loss: 0.6426622099627496\n",
            "Epoch: 158 Train Loss: 0.6251541402246028 Test Loss: 0.6425982111374844\n",
            "Epoch: 159 Train Loss: 0.6249908436254757 Test Loss: 0.6425384205662188\n",
            "Epoch: 160 Train Loss: 0.6248260681112869 Test Loss: 0.6424828232363312\n",
            "Epoch: 161 Train Loss: 0.6246628119278689 Test Loss: 0.6424282554960846\n",
            "Epoch: 162 Train Loss: 0.624501622331228 Test Loss: 0.6423709133652956\n",
            "Epoch: 163 Train Loss: 0.624340983370109 Test Loss: 0.6423138399791186\n",
            "Epoch: 164 Train Loss: 0.6241802968023464 Test Loss: 0.642254594169089\n",
            "Epoch: 165 Train Loss: 0.6240198401707737 Test Loss: 0.6421997194698321\n",
            "Epoch: 166 Train Loss: 0.6238615439725896 Test Loss: 0.6421487221386499\n",
            "Epoch: 167 Train Loss: 0.6237047126774838 Test Loss: 0.6420990740139412\n",
            "Epoch: 168 Train Loss: 0.6235497981617604 Test Loss: 0.642050812826467\n",
            "Epoch: 169 Train Loss: 0.6233931180988896 Test Loss: 0.6420086696686611\n",
            "Epoch: 170 Train Loss: 0.6232355913626487 Test Loss: 0.6419653833009594\n",
            "Epoch: 171 Train Loss: 0.6230778422360145 Test Loss: 0.6419183080143164\n",
            "Epoch: 172 Train Loss: 0.6229186777538034 Test Loss: 0.6418718763696569\n",
            "Epoch: 173 Train Loss: 0.622760130249509 Test Loss: 0.6418232290071222\n",
            "Epoch: 174 Train Loss: 0.6226014772991907 Test Loss: 0.6417747728674098\n",
            "Epoch: 175 Train Loss: 0.6224433042554739 Test Loss: 0.6417268727233325\n",
            "Epoch: 176 Train Loss: 0.6222860667367685 Test Loss: 0.6416801228486824\n",
            "Epoch: 177 Train Loss: 0.6221269611172543 Test Loss: 0.6416373383498246\n",
            "Epoch: 178 Train Loss: 0.6219687585567151 Test Loss: 0.6415929340753368\n",
            "Epoch: 179 Train Loss: 0.6218107894634394 Test Loss: 0.6415471682532321\n",
            "Epoch: 180 Train Loss: 0.6216527322641198 Test Loss: 0.641504224444927\n",
            "Epoch: 181 Train Loss: 0.6214964272912658 Test Loss: 0.6414598096431274\n",
            "Epoch: 182 Train Loss: 0.6213410492335553 Test Loss: 0.6414158822548229\n",
            "Epoch: 183 Train Loss: 0.6211881429842095 Test Loss: 0.6413683901398802\n",
            "Epoch: 184 Train Loss: 0.6210389232291473 Test Loss: 0.6413233067353018\n",
            "Epoch: 185 Train Loss: 0.6208914607662447 Test Loss: 0.6412807138514278\n",
            "Epoch: 186 Train Loss: 0.6207448428708138 Test Loss: 0.6412403395682512\n",
            "Epoch: 187 Train Loss: 0.6205976567072484 Test Loss: 0.6412021298738436\n",
            "Epoch: 188 Train Loss: 0.6204514295493845 Test Loss: 0.6411612963382444\n",
            "Epoch: 189 Train Loss: 0.6203042281865114 Test Loss: 0.6411219605905819\n",
            "Epoch: 190 Train Loss: 0.6201572426584162 Test Loss: 0.6410818744296217\n",
            "Epoch: 191 Train Loss: 0.6200113213559497 Test Loss: 0.6410456181214754\n",
            "Epoch: 192 Train Loss: 0.6198672787163553 Test Loss: 0.6410080241922999\n",
            "Epoch: 193 Train Loss: 0.6197264457759988 Test Loss: 0.6409696703327626\n",
            "Epoch: 194 Train Loss: 0.6195870612138435 Test Loss: 0.6409336771155345\n",
            "Epoch: 195 Train Loss: 0.6194481927814822 Test Loss: 0.6408950797865741\n",
            "Epoch: 196 Train Loss: 0.6193094874957623 Test Loss: 0.6408605446119096\n",
            "Epoch: 197 Train Loss: 0.6191702705760529 Test Loss: 0.6408242459059782\n",
            "Epoch: 198 Train Loss: 0.6190307600124622 Test Loss: 0.6407863127521128\n",
            "Epoch: 199 Train Loss: 0.6188926526119126 Test Loss: 0.6407456570044009\n"
          ]
        }
      ]
    },
    {
      "cell_type": "code",
      "metadata": {
        "id": "Apz0-Y9xQPWb"
      },
      "source": [
        "# After the training:\n",
        "    \n",
        "# Prepare scatter plot\n",
        "y_pred = [dnn(x,W,b,Wp,bp)[0] for x in X_test]\n",
        "\n",
        "# now we need to rescale the output to the correct values\n",
        "y_pred = (y_pred + mean[11])* std[11]\n",
        "y_test = (y_test + mean[11])* std[11]\n",
        "y_pred_train = (y_pred_train + mean[11]) * std[11]\n",
        "y_train = (y_train + mean[11]) * std[11]"
      ],
      "execution_count": null,
      "outputs": []
    },
    {
      "cell_type": "code",
      "source": [
        "print(f\"Best loss: {min(test_losses):.3f}, Final loss: {test_losses[-1]:.3f}\")\n",
        "\n",
        "print(f\"Correlation coefficient: {np.corrcoef(y_pred,y_test)[0,1]:.3f}\")\n",
        "plt.scatter(y_pred_train,y_train)\n",
        "plt.xlabel(\"Predicted\")\n",
        "plt.ylabel(\"True\")\n",
        "plt.show()\n",
        "\n",
        "fig, ax = plt.subplots(1, 1)\n",
        "h = ax.hist2d(y_pred_train, y_train, bins=[np.arange(0.5, 10.5, 1),np.arange(0.5, 10.5, 1)])\n",
        "ax.set_xlabel(\"Predicted\")\n",
        "ax.set_ylabel(\"True\")\n",
        "ax.set_aspect(\"equal\")\n",
        "cbar = fig.colorbar(h[3], ax=ax)\n",
        "cbar.set_label(\"entries\")\n",
        "plt.show()\n",
        "\n",
        "# Prepare and loss over time\n",
        "plt.plot(train_losses[2:],label=\"train\")\n",
        "plt.plot(test_losses[2:],label=\"test\") # we omit the first data points as the first loss is typically very high which makes it difficult to read the plot. \n",
        "plt.legend()\n",
        "plt.xlabel(\"Epoch\")\n",
        "plt.ylabel(\"Loss\")\n",
        "plt.show()"
      ],
      "metadata": {
        "colab": {
          "base_uri": "https://localhost:8080/",
          "height": 838
        },
        "id": "n561BnXnVoDG",
        "outputId": "2ab1e608-c786-467e-8c4b-a9d1167544f0"
      },
      "execution_count": null,
      "outputs": [
        {
          "output_type": "stream",
          "name": "stdout",
          "text": [
            "Best loss: 0.641, Final loss: 0.641\n",
            "Correlation coefficient: 0.578\n"
          ]
        },
        {
          "output_type": "display_data",
          "data": {
            "text/plain": [
              "<Figure size 432x288 with 1 Axes>"
            ],
            "image/png": "[encoded data removed]"
          },
          "metadata": {
            "needs_background": "light"
          }
        },
        {
          "output_type": "display_data",
          "data": {
            "text/plain": [
              "<Figure size 432x288 with 2 Axes>"
            ],
            "image/png": "[encoded data removed]"
          },
          "metadata": {
            "needs_background": "light"
          }
        },
        {
          "output_type": "display_data",
          "data": {
            "text/plain": [
              "<Figure size 432x288 with 1 Axes>"
            ],
            "image/png": "[encoded data removed]"
          },
          "metadata": {
            "needs_background": "light"
          }
        }
      ]
    },
    {
      "cell_type": "code",
      "metadata": {
        "colab": {
          "base_uri": "https://localhost:8080/"
        },
        "id": "tFNTC1SsuyuR",
        "outputId": "f3fe2249-3a64-461a-e60a-15e3cc7f85bb"
      },
      "source": [
        "print(np.max(np.abs(W)), np.average(np.abs(W))) # we see that single weights have a large value. Some regularization L2 norm might help to improve results. \n",
        "print(np.max(np.abs(Wp)), np.average(np.abs(Wp)))"
      ],
      "execution_count": null,
      "outputs": [
        {
          "output_type": "stream",
          "name": "stdout",
          "text": [
            "1.762779690234602 0.3290683723553038\n",
            "0.45374070432121316 0.1288382275843679\n"
          ]
        }
      ]
    },
    {
      "cell_type": "markdown",
      "metadata": {
        "id": "abkfAiy_glYi"
      },
      "source": [
        "# Hint 1"
      ]
    },
    {
      "cell_type": "markdown",
      "metadata": {
        "id": "RMuB_2uFglYj"
      },
      "source": [
        "We want a network with one hidden layer. As activiation in the hidden layer $\\sigma$ we apply element-wise ReLu, while no activation is used for the output layer. The forward pass of the network then reads:\n",
        "$$\\hat{y}=\\mathbf{W}^{\\prime} \\sigma(\\mathbf{W} \\vec{x}+\\vec{b})+b^{\\prime}$$"
      ]
    },
    {
      "cell_type": "markdown",
      "source": [],
      "metadata": {
        "id": "k3YzBLg2_DKF"
      }
    },
    {
      "cell_type": "markdown",
      "metadata": {
        "id": "ubpT5nt4glYl"
      },
      "source": [
        "# Hint 2"
      ]
    },
    {
      "cell_type": "markdown",
      "metadata": {
        "id": "ZLtiXRNQglYl"
      },
      "source": [
        "For the regression problem the objective function is the mean squared error between the prediction and the true label $y$:\n",
        "$$\n",
        "L=(\\hat{y}-y)^{2}\n",
        "$$\n",
        "\n",
        "Taking the partial derivatives - and diligently applying chain rule - with respect to the different objects yields:\n",
        "\\begin{aligned}\n",
        "\\frac{\\partial L}{\\partial b^{\\prime}} &=2(\\hat{y}-y) \\\\\n",
        "\\frac{\\partial L}{\\partial b_{k}} &=2(\\hat{y}-y) \\mathbf{W}_{k}^{\\prime} \\theta\\left(\\sum_{i} \\mathbf{W}_{k i} x_{i}+b_{k}\\right) \\\\\n",
        "\\frac{\\partial L}{\\partial \\mathbf{W}_{k}^{\\prime}} &=2(\\hat{y}-y) \\sigma\\left(\\sum_{i} \\mathbf{W}_{k i} x_{i}+b_{k}\\right) \\\\\n",
        "\\frac{\\partial L}{\\partial \\mathbf{W}_{k m}} &=2(\\hat{y}-y) \\mathbf{W}_{m}^{\\prime} \\theta\\left(\\sum_{i} \\mathbf{W}_{m i} x_{i}+b_{m}\\right) x_{k}\n",
        "\\end{aligned}\n",
        "\n",
        "Here, $\\Theta$ denotes the Heaviside step function."
      ]
    }
  ]
}