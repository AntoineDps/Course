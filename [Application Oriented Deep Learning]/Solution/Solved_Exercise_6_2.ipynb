{
  "nbformat": 4,
  "nbformat_minor": 0,
  "metadata": {
    "kernelspec": {
      "display_name": "Python 3",
      "language": "python",
      "name": "python3"
    },
    "language_info": {
      "codemirror_mode": {
        "name": "ipython",
        "version": 3
      },
      "file_extension": ".py",
      "mimetype": "text/x-python",
      "name": "python",
      "nbconvert_exporter": "python",
      "pygments_lexer": "ipython3",
      "version": "3.6.9"
    },
    "colab": {
      "provenance": []
    },
    "accelerator": "GPU"
  },
  "cells": [
    {
      "cell_type": "markdown",
      "metadata": {
        "id": "7MUNgPo8DhVJ"
      },
      "source": [
        "# Exercise 6.2\n",
        "## Interpolation\n",
        "In this task, we implement a simple NN to learn a complicated function."
      ]
    },
    {
      "cell_type": "code",
      "metadata": {
        "id": "jonSkW8HDhVN"
      },
      "source": [
        "import numpy as np\n",
        "from tensorflow import keras\n",
        "import matplotlib.pyplot as plt\n",
        "\n",
        "layers = keras.layers"
      ],
      "execution_count": null,
      "outputs": []
    },
    {
      "cell_type": "markdown",
      "metadata": {
        "id": "PB_BSlZGDhVP"
      },
      "source": [
        "### Generation of data"
      ]
    },
    {
      "cell_type": "code",
      "metadata": {
        "id": "2dI2fNw7DhVP"
      },
      "source": [
        "def some_complicated_function(x):\n",
        "    return (\n",
        "        (np.abs(x)) ** 0.5\n",
        "        + 0.1 * x\n",
        "        + 0.01 * x ** 2\n",
        "        + 1\n",
        "        - np.sin(x)\n",
        "        + 0.5 * np.exp(x / 10.0)\n",
        "        ) / (0.5 + np.abs(np.cos(x)))"
      ],
      "execution_count": null,
      "outputs": []
    },
    {
      "cell_type": "markdown",
      "metadata": {
        "id": "Cx5vvoAwDhVQ"
      },
      "source": [
        "Let's simulate the train data"
      ]
    },
    {
      "cell_type": "code",
      "metadata": {
        "id": "8IeoimC8DhVQ"
      },
      "source": [
        "N_train = 10 ** 4  # number of training samples\n",
        "# Note: \"[:, np.newaxis]\" reshapes array to (N,1) as required by our DNN (we input one feature per sample)\n",
        "xtrain = np.random.uniform(-10, 10, N_train)[:, np.newaxis]\n",
        "ytrain = some_complicated_function(xtrain) + np.random.standard_normal(xtrain.shape)  # train data includes some noise"
      ],
      "execution_count": null,
      "outputs": []
    },
    {
      "cell_type": "code",
      "metadata": {
        "id": "mlI1OqbUDhVQ",
        "colab": {
          "base_uri": "https://localhost:8080/"
        },
        "outputId": "97121164-b27c-4d3c-ac9b-e25b59731dce"
      },
      "source": [
        "print(\"xtrain.shape\", xtrain.shape)\n",
        "print(\"ytrain.shape\", ytrain.shape)"
      ],
      "execution_count": null,
      "outputs": [
        {
          "output_type": "stream",
          "name": "stdout",
          "text": [
            "xtrain.shape (10000, 1)\n",
            "ytrain.shape (10000, 1)\n"
          ]
        }
      ]
    },
    {
      "cell_type": "markdown",
      "metadata": {
        "id": "kBU3EoJKDhVS"
      },
      "source": [
        "Simulate test data"
      ]
    },
    {
      "cell_type": "code",
      "metadata": {
        "id": "n0bQ_GpYDhVS"
      },
      "source": [
        "N_test = 10000  # number of testing samples\n",
        "xtest = np.linspace(-10, 10, N_test)\n",
        "ytest = some_complicated_function(xtest)"
      ],
      "execution_count": null,
      "outputs": []
    },
    {
      "cell_type": "code",
      "metadata": {
        "id": "SEsr1VNzDhVT",
        "colab": {
          "base_uri": "https://localhost:8080/"
        },
        "outputId": "821923a3-6f9c-43d6-97d0-6c5b7df41084"
      },
      "source": [
        "print(\"xtest.shape\", xtest.shape)\n",
        "print(\"ytest.shape\", ytest.shape)"
      ],
      "execution_count": null,
      "outputs": [
        {
          "output_type": "stream",
          "name": "stdout",
          "text": [
            "xtest.shape (10000,)\n",
            "ytest.shape (10000,)\n"
          ]
        }
      ]
    },
    {
      "cell_type": "markdown",
      "metadata": {
        "id": "vRRRNdKpDhVU"
      },
      "source": [
        "### Define Model\n",
        "\n",
        "Define the number of nodes, the number of layers, and choose an activation function.\n",
        "Use `keras.regularizers` to use parameter norm penalties or add a dropout layer via `layers.Dropout(fraction)`.\n",
        "\n",
        "You may use the skeleton below:"
      ]
    },
    {
      "cell_type": "code",
      "metadata": {
        "id": "2v7d4JHZDhVU",
        "colab": {
          "base_uri": "https://localhost:8080/"
        },
        "outputId": "0e99a117-ea6c-4765-8777-aa0eace83cd7"
      },
      "source": [
        "nb_nodes = 100\n",
        "nb_layers = 6\n",
        "activation = \"ReLU\"\n",
        "\n",
        "model = keras.models.Sequential(name=\"1Dfit\")\n",
        "model.add(layers.Dense(nb_nodes, activation=activation, input_dim=xtrain.shape[1]))  # first layer # specify input_dim only for very first layer\n",
        "\n",
        "for i in range(1,nb_layers):\n",
        "  model.add(layers.Dense(nb_nodes, activation = activation))\n",
        "  \n",
        "model.add(layers.Dense(1))  # final layer\n",
        "\n",
        "print(model.summary())"
      ],
      "execution_count": null,
      "outputs": [
        {
          "output_type": "stream",
          "name": "stdout",
          "text": [
            "Model: \"1Dfit\"\n",
            "_________________________________________________________________\n",
            " Layer (type)                Output Shape              Param #   \n",
            "=================================================================\n",
            " dense (Dense)               (None, 100)               200       \n",
            "                                                                 \n",
            " dense_1 (Dense)             (None, 100)               10100     \n",
            "                                                                 \n",
            " dense_2 (Dense)             (None, 100)               10100     \n",
            "                                                                 \n",
            " dense_3 (Dense)             (None, 100)               10100     \n",
            "                                                                 \n",
            " dense_4 (Dense)             (None, 100)               10100     \n",
            "                                                                 \n",
            " dense_5 (Dense)             (None, 100)               10100     \n",
            "                                                                 \n",
            " dense_6 (Dense)             (None, 1)                 101       \n",
            "                                                                 \n",
            "=================================================================\n",
            "Total params: 50,801\n",
            "Trainable params: 50,801\n",
            "Non-trainable params: 0\n",
            "_________________________________________________________________\n",
            "None\n"
          ]
        }
      ]
    },
    {
      "cell_type": "markdown",
      "source": [
        "Here, the users use KERAS linrary to create a DDN, that is define the number of input, layers, neurons and activation function.\n",
        "\n",
        "The \"summary\" command allows the user to have a visual on the network he has created."
      ],
      "metadata": {
        "id": "a-UUVtWYMXJi"
      }
    },
    {
      "cell_type": "markdown",
      "metadata": {
        "id": "6zJykTHgDhVU"
      },
      "source": [
        "### Compile the model (set an objective and choose an optimizer)"
      ]
    },
    {
      "cell_type": "markdown",
      "metadata": {
        "id": "V1XQ_aPSDhVV"
      },
      "source": [
        "Choose an optimizer from `keras.optimizers`, e.g., `adam = keras.optimizers.Adam(learning_rate=0.001)`.\n",
        "\n",
        "Further, choose the correct objective (loss) for this <b>regression task</b>."
      ]
    },
    {
      "cell_type": "code",
      "metadata": {
        "id": "0rI_dLv7DhVV"
      },
      "source": [
        "adam = keras.optimizers.Adam(learning_rate=0.001)\n",
        "model.compile(loss=\"MSE\", optimizer=adam)"
      ],
      "execution_count": null,
      "outputs": []
    },
    {
      "cell_type": "markdown",
      "source": [
        "Here, the suers can choose the optimizer use for training the network, that is the training algorithm used to optimize the weight. Here the Adam optmizer is used and correspond to Stochastic gradient descent weight optimization method.\n",
        "\n",
        "Moreover, the user can choose the loss function used in the DNN training. Here the standard mean square error is used."
      ],
      "metadata": {
        "id": "0FBXU5g3NGDU"
      }
    },
    {
      "cell_type": "markdown",
      "metadata": {
        "id": "5Nnex8oJDhVV"
      },
      "source": [
        "### Train the model"
      ]
    },
    {
      "cell_type": "markdown",
      "metadata": {
        "id": "vWd6kKyCDhVV"
      },
      "source": [
        "Train the network for a couple of epochs and save the model several times in between."
      ]
    },
    {
      "cell_type": "code",
      "metadata": {
        "id": "hHhUTZLsDhVW",
        "colab": {
          "base_uri": "https://localhost:8080/"
        },
        "outputId": "a7a2e1e0-c4b1-4658-c7a6-e8fafb4e28eb"
      },
      "source": [
        "epochs = 100\n",
        "save_period = 20 # after how many epochs the model should be saved?\n",
        "\n",
        "chkpnt_saver = keras.callbacks.ModelCheckpoint(\"weights-{epoch:02d}.hdf5\", save_weights_only=True, save_freq=save_period)\n",
        "\n",
        "results = model.fit(\n",
        "    xtrain,\n",
        "    ytrain,\n",
        "    batch_size=64,\n",
        "    epochs=epochs,\n",
        "    verbose=1,\n",
        "    callbacks=[chkpnt_saver]\n",
        "    )"
      ],
      "execution_count": null,
      "outputs": [
        {
          "output_type": "stream",
          "name": "stdout",
          "text": [
            "Epoch 1/100\n",
            "157/157 [==============================] - 6s 6ms/step - loss: 4.7437\n",
            "Epoch 2/100\n",
            "157/157 [==============================] - 1s 6ms/step - loss: 3.1264\n",
            "Epoch 3/100\n",
            "157/157 [==============================] - 1s 6ms/step - loss: 2.7617\n",
            "Epoch 4/100\n",
            "157/157 [==============================] - 1s 6ms/step - loss: 2.5348\n",
            "Epoch 5/100\n",
            "157/157 [==============================] - 1s 6ms/step - loss: 2.4213\n",
            "Epoch 6/100\n",
            "157/157 [==============================] - 1s 6ms/step - loss: 2.3586\n",
            "Epoch 7/100\n",
            "157/157 [==============================] - 1s 5ms/step - loss: 2.3418\n",
            "Epoch 8/100\n",
            "157/157 [==============================] - 1s 6ms/step - loss: 2.3409\n",
            "Epoch 9/100\n",
            "157/157 [==============================] - 1s 6ms/step - loss: 2.3893\n",
            "Epoch 10/100\n",
            "157/157 [==============================] - 1s 5ms/step - loss: 2.3188\n",
            "Epoch 11/100\n",
            "157/157 [==============================] - 1s 6ms/step - loss: 2.2487\n",
            "Epoch 12/100\n",
            "157/157 [==============================] - 1s 5ms/step - loss: 2.1671\n",
            "Epoch 13/100\n",
            "157/157 [==============================] - 1s 4ms/step - loss: 2.0612\n",
            "Epoch 14/100\n",
            "157/157 [==============================] - 1s 3ms/step - loss: 1.8745\n",
            "Epoch 15/100\n",
            "157/157 [==============================] - 1s 3ms/step - loss: 1.6562\n",
            "Epoch 16/100\n",
            "157/157 [==============================] - 1s 3ms/step - loss: 1.5054\n",
            "Epoch 17/100\n",
            "157/157 [==============================] - 1s 3ms/step - loss: 1.4592\n",
            "Epoch 18/100\n",
            "157/157 [==============================] - 1s 3ms/step - loss: 1.4036\n",
            "Epoch 19/100\n",
            "157/157 [==============================] - 1s 3ms/step - loss: 1.3374\n",
            "Epoch 20/100\n",
            "157/157 [==============================] - 1s 3ms/step - loss: 1.2670\n",
            "Epoch 21/100\n",
            "157/157 [==============================] - 1s 3ms/step - loss: 1.2849\n",
            "Epoch 22/100\n",
            "157/157 [==============================] - 1s 3ms/step - loss: 1.2799\n",
            "Epoch 23/100\n",
            "157/157 [==============================] - 1s 4ms/step - loss: 1.2823\n",
            "Epoch 24/100\n",
            "157/157 [==============================] - 1s 5ms/step - loss: 1.3172\n",
            "Epoch 25/100\n",
            "157/157 [==============================] - 1s 5ms/step - loss: 1.2054\n",
            "Epoch 26/100\n",
            "157/157 [==============================] - 1s 5ms/step - loss: 1.2676\n",
            "Epoch 27/100\n",
            "157/157 [==============================] - 1s 3ms/step - loss: 1.1666\n",
            "Epoch 28/100\n",
            "157/157 [==============================] - 1s 3ms/step - loss: 1.1709\n",
            "Epoch 29/100\n",
            "157/157 [==============================] - 1s 4ms/step - loss: 1.2614\n",
            "Epoch 30/100\n",
            "157/157 [==============================] - 1s 4ms/step - loss: 1.1540\n",
            "Epoch 31/100\n",
            "157/157 [==============================] - 1s 4ms/step - loss: 1.2813\n",
            "Epoch 32/100\n",
            "157/157 [==============================] - 1s 4ms/step - loss: 1.1616\n",
            "Epoch 33/100\n",
            "157/157 [==============================] - 1s 4ms/step - loss: 1.1695\n",
            "Epoch 34/100\n",
            "157/157 [==============================] - 1s 4ms/step - loss: 1.2226\n",
            "Epoch 35/100\n",
            "157/157 [==============================] - 1s 4ms/step - loss: 1.1618\n",
            "Epoch 36/100\n",
            "157/157 [==============================] - 1s 4ms/step - loss: 1.1577\n",
            "Epoch 37/100\n",
            "157/157 [==============================] - 1s 3ms/step - loss: 1.2163\n",
            "Epoch 38/100\n",
            "157/157 [==============================] - 1s 4ms/step - loss: 1.1484\n",
            "Epoch 39/100\n",
            "157/157 [==============================] - 1s 4ms/step - loss: 1.2044\n",
            "Epoch 40/100\n",
            "157/157 [==============================] - 1s 4ms/step - loss: 1.2013\n",
            "Epoch 41/100\n",
            "157/157 [==============================] - 1s 3ms/step - loss: 1.1885\n",
            "Epoch 42/100\n",
            "157/157 [==============================] - 1s 4ms/step - loss: 1.1452\n",
            "Epoch 43/100\n",
            "157/157 [==============================] - 1s 4ms/step - loss: 1.1541\n",
            "Epoch 44/100\n",
            "157/157 [==============================] - 1s 3ms/step - loss: 1.1928\n",
            "Epoch 45/100\n",
            "157/157 [==============================] - 1s 4ms/step - loss: 1.1228\n",
            "Epoch 46/100\n",
            "157/157 [==============================] - 1s 3ms/step - loss: 1.1708\n",
            "Epoch 47/100\n",
            "157/157 [==============================] - 1s 3ms/step - loss: 1.1322\n",
            "Epoch 48/100\n",
            "157/157 [==============================] - 1s 3ms/step - loss: 1.2308\n",
            "Epoch 49/100\n",
            "157/157 [==============================] - 1s 4ms/step - loss: 1.1972\n",
            "Epoch 50/100\n",
            "157/157 [==============================] - 1s 3ms/step - loss: 1.1479\n",
            "Epoch 51/100\n",
            "157/157 [==============================] - 1s 4ms/step - loss: 1.1350\n",
            "Epoch 52/100\n",
            "157/157 [==============================] - 1s 4ms/step - loss: 1.1364\n",
            "Epoch 53/100\n",
            "157/157 [==============================] - 1s 4ms/step - loss: 1.1323\n",
            "Epoch 54/100\n",
            "157/157 [==============================] - 1s 4ms/step - loss: 1.1039\n",
            "Epoch 55/100\n",
            "157/157 [==============================] - 1s 4ms/step - loss: 1.1243\n",
            "Epoch 56/100\n",
            "157/157 [==============================] - 1s 4ms/step - loss: 1.1353\n",
            "Epoch 57/100\n",
            "157/157 [==============================] - 1s 4ms/step - loss: 1.1494\n",
            "Epoch 58/100\n",
            "157/157 [==============================] - 1s 4ms/step - loss: 1.1389\n",
            "Epoch 59/100\n",
            "157/157 [==============================] - 1s 4ms/step - loss: 1.1022\n",
            "Epoch 60/100\n",
            "157/157 [==============================] - 1s 4ms/step - loss: 1.1185\n",
            "Epoch 61/100\n",
            "157/157 [==============================] - 1s 3ms/step - loss: 1.1531\n",
            "Epoch 62/100\n",
            "157/157 [==============================] - 1s 4ms/step - loss: 1.1801\n",
            "Epoch 63/100\n",
            "157/157 [==============================] - 1s 4ms/step - loss: 1.1179\n",
            "Epoch 64/100\n",
            "157/157 [==============================] - 1s 4ms/step - loss: 1.1214\n",
            "Epoch 65/100\n",
            "157/157 [==============================] - 1s 4ms/step - loss: 1.0931\n",
            "Epoch 66/100\n",
            "157/157 [==============================] - 1s 4ms/step - loss: 1.1301\n",
            "Epoch 67/100\n",
            "157/157 [==============================] - 1s 4ms/step - loss: 1.1293\n",
            "Epoch 68/100\n",
            "157/157 [==============================] - 1s 3ms/step - loss: 1.1281\n",
            "Epoch 69/100\n",
            "157/157 [==============================] - 1s 4ms/step - loss: 1.1781\n",
            "Epoch 70/100\n",
            "157/157 [==============================] - 1s 4ms/step - loss: 1.1922\n",
            "Epoch 71/100\n",
            "157/157 [==============================] - 1s 4ms/step - loss: 1.1547\n",
            "Epoch 72/100\n",
            "157/157 [==============================] - 1s 4ms/step - loss: 1.1154\n",
            "Epoch 73/100\n",
            "157/157 [==============================] - 1s 4ms/step - loss: 1.1359\n",
            "Epoch 74/100\n",
            "157/157 [==============================] - 1s 3ms/step - loss: 1.1053\n",
            "Epoch 75/100\n",
            "157/157 [==============================] - 1s 3ms/step - loss: 1.1074\n",
            "Epoch 76/100\n",
            "157/157 [==============================] - 1s 4ms/step - loss: 1.1085\n",
            "Epoch 77/100\n",
            "157/157 [==============================] - 1s 4ms/step - loss: 1.1333\n",
            "Epoch 78/100\n",
            "157/157 [==============================] - 1s 4ms/step - loss: 1.1359\n",
            "Epoch 79/100\n",
            "157/157 [==============================] - 1s 4ms/step - loss: 1.1467\n",
            "Epoch 80/100\n",
            "157/157 [==============================] - 1s 3ms/step - loss: 1.1017\n",
            "Epoch 81/100\n",
            "157/157 [==============================] - 1s 3ms/step - loss: 1.2037\n",
            "Epoch 82/100\n",
            "157/157 [==============================] - 1s 3ms/step - loss: 1.0948\n",
            "Epoch 83/100\n",
            "157/157 [==============================] - 1s 4ms/step - loss: 1.1284\n",
            "Epoch 84/100\n",
            "157/157 [==============================] - 1s 4ms/step - loss: 1.1476\n",
            "Epoch 85/100\n",
            "157/157 [==============================] - 1s 4ms/step - loss: 1.1144\n",
            "Epoch 86/100\n",
            "157/157 [==============================] - 1s 3ms/step - loss: 1.0985\n",
            "Epoch 87/100\n",
            "157/157 [==============================] - 1s 3ms/step - loss: 1.0966\n",
            "Epoch 88/100\n",
            "157/157 [==============================] - 1s 3ms/step - loss: 1.0923\n",
            "Epoch 89/100\n",
            "157/157 [==============================] - 1s 3ms/step - loss: 1.1071\n",
            "Epoch 90/100\n",
            "157/157 [==============================] - 1s 4ms/step - loss: 1.0958\n",
            "Epoch 91/100\n",
            "157/157 [==============================] - 1s 4ms/step - loss: 1.0907\n",
            "Epoch 92/100\n",
            "157/157 [==============================] - 1s 4ms/step - loss: 1.1037\n",
            "Epoch 93/100\n",
            "157/157 [==============================] - 1s 4ms/step - loss: 1.1104\n",
            "Epoch 94/100\n",
            "157/157 [==============================] - 1s 4ms/step - loss: 1.1047\n",
            "Epoch 95/100\n",
            "157/157 [==============================] - 1s 4ms/step - loss: 1.1024\n",
            "Epoch 96/100\n",
            "157/157 [==============================] - 1s 7ms/step - loss: 1.1547\n",
            "Epoch 97/100\n",
            "157/157 [==============================] - 1s 7ms/step - loss: 1.1289\n",
            "Epoch 98/100\n",
            "157/157 [==============================] - 1s 7ms/step - loss: 1.0855\n",
            "Epoch 99/100\n",
            "157/157 [==============================] - 1s 5ms/step - loss: 1.1092\n",
            "Epoch 100/100\n",
            "157/157 [==============================] - 1s 4ms/step - loss: 1.0998\n"
          ]
        }
      ]
    },
    {
      "cell_type": "markdown",
      "source": [
        "Here the user can choose the number of epochs and the batch size. The epoch is number of time the training algorithm will go through all the dataset, and the batch size is the number of sample used before updating the weight value, so the number of sample that are passed through the network at once, before weight update.\n",
        "\n",
        "Finally, the save period is also specified here."
      ],
      "metadata": {
        "id": "fj0BkySaNtPS"
      }
    },
    {
      "cell_type": "markdown",
      "metadata": {
        "id": "ON4FWth1DhVW"
      },
      "source": [
        "Compare the performance of the model during the training. You may use the skeleton below:"
      ]
    },
    {
      "cell_type": "code",
      "metadata": {
        "id": "gT0EPJ0BDhVW",
        "colab": {
          "base_uri": "https://localhost:8080/",
          "height": 497
        },
        "outputId": "a704bfa2-5587-42a1-d573-6e3fc3920154"
      },
      "source": [
        "fig, (ax1, ax2) = plt.subplots(nrows=2, figsize=(12, 8))\n",
        "\n",
        "ax1.plot(xtest, ytest, color=\"black\", label=\"data\")\n",
        "saved_epochs = range(save_period, epochs + 1, save_period)\n",
        "\n",
        "colors = [plt.cm.jet((i + 1) / float(len(saved_epochs) + 1)) for i in range(len(saved_epochs))]\n",
        "\n",
        "for i, epoch in enumerate(saved_epochs):\n",
        "    model.load_weights(\"weights-{epoch:02d}.hdf5\".format(epoch=epoch))\n",
        "    ypredict = model.predict(xtest).squeeze()\n",
        "    ax1.plot(xtest.squeeze(), ypredict, color=colors[i], label=epoch)\n",
        "    ax2.plot(epoch, results.history[\"loss\"][epoch - 1], color=colors[i], marker=\"o\")\n",
        "\n",
        "ax1.set(xlabel=\"x\", ylabel=\"some_complicated_function(x)\", xlim=(-10, 13), title=\"\")\n",
        "ax1.grid(True)\n",
        "ax1.legend(loc=\"upper right\", title=\"Epochs\")\n",
        "\n",
        "ax2.plot(results.history[\"loss\"], color=\"black\")\n",
        "ax2.set(xlabel=\"epoch\", ylabel=\"loss\")\n",
        "ax2.grid(True)\n",
        "ax2.semilogy()\n",
        "\n",
        "plt.show()"
      ],
      "execution_count": null,
      "outputs": [
        {
          "output_type": "display_data",
          "data": {
            "text/plain": [
              "<Figure size 864x576 with 2 Axes>"
            ],
            "image/png": "[encoded data removed]"
          },
          "metadata": {
            "needs_background": "light"
          }
        }
      ]
    },
    {
      "cell_type": "markdown",
      "source": [
        "Here, the results of the training are nicely plotted.\n",
        "\n",
        "In the plot1 the real function is plotted to be able to visually see the accuracy prediction of the DDN. One can observe that, naturally, prediction accuracy (that is curve fitting) increase with the number of epochs as weights are further optimized until reaching a more or less constant loss.\n",
        "\n",
        "In the plot2, the evolution of the loss after each epoch is shown, so we can see the initial decrease in loss and then a stabilization with small fluctuation. To avoid overfitting, the training should be stoped not too long after reaching the \"constant\" minimal loss value."
      ],
      "metadata": {
        "id": "Y1laaxAJPdlK"
      }
    }
  ]
}