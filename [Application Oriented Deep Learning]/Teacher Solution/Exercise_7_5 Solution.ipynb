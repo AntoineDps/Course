{
  "nbformat": 4,
  "nbformat_minor": 0,
  "metadata": {
    "colab": {
      "provenance": [],
      "include_colab_link": true
    },
    "kernelspec": {
      "name": "python3",
      "display_name": "Python 3"
    },
    "language_info": {
      "name": "python"
    }
  },
  "cells": [
    {
      "cell_type": "markdown",
      "metadata": {
        "id": "view-in-github",
        "colab_type": "text"
      },
      "source": [
        "<a href=\"https://colab.research.google.com/github/AntoineDps/Courses/blob/main/Copy_of_cnn_its_lab.ipynb\" target=\"_parent\"><img src=\"https://colab.research.google.com/assets/colab-badge.svg\" alt=\"Open In Colab\"/></a>"
      ]
    },
    {
      "cell_type": "markdown",
      "metadata": {
        "id": "XblK19KM9VKF"
      },
      "source": [
        "## DNA motif discovery using CNN\n",
        "\n",
        "In this lab, we will use convolutional neural networks (CNN) to detect certain motifs (DNA fragments following specific pattern) in plant DNA sequences downloaded from GenBank.\n",
        "\n",
        "### Data\n",
        "The first step is to go to [GenBank](https://https.ncbi.nlm.nih.gov/genbank/) database [FTP service](https://ftp.ncbi.nih.gov/genbank/) and download some data. Whenever researchers sequence DNA coming from an organism and publishe their finding, the DNA sequences are deposited in GeneBank. In their FTP service, one can see a number of `gb***N.seq.gz` files where `***` is an abbreviation for a group of organisms DNA sequences come from, e.g. `bct` for bacteria or `pln` for plants and `N` is a sequence number assigned in a consecutive manner to deposited files. We have downloaded one of such files `gbpln132.seq.gz` and converted it to an easier-to-read format called [FASTA](https://en.wikipedia.org/wiki/FASTA). If you are curious and would like to prepare your own dataset, we used the following `BioPython` file IO routines to convert from GenBank format to FASTA:\n",
        "```\n",
        "from Bio import SeqIO\n",
        "SeqIO.convert(\"gbpln132.seq\", \"genbank\", \"gbpln132.fasta\", \"fasta\")\n",
        "```\n",
        "\n",
        "### DNA metabarcoding and amplicon sequencing\n",
        "\n",
        "Now, let me introduce you to a real research problem. Say, we go to a grocery store and buy a mix of spices. There are some spices listed on a label, but how can we make sure that there actually is basilica in the mix? One of the ways to figure this out is to extract DNA from these dried powdered spices and use it to single out species composition. This part can be somewhat tricky itself as it is not trivial to extract DNA from such mix that possibly also contains some chemicals that may damage the DNA or make extraction very inefficient. Say, however, we have solved this issue, now we can go two ways: \n",
        "* sequence all DNA fragments and hope they will say something about the species composition. The risk is, however, that we won't have enough material that is specific to a given species and thus we end up below the detection level.\n",
        "* try to PCR-amplify (make many copies) of some 'magic' sequence fragments that, we know, are very specific/characteristic to different species. This is called **amplicon sequencing**. \n",
        "\n",
        "In this lab, we will go for the second approach. How does it work? Well, first, we need to have some barcodes (special DNA sequence fragments) that are suitable for species identification.\n",
        "\n",
        "### Properties a DNA barcode\n",
        "\n",
        "Back to our jar of spices -- we know that, at least in theory, the plants that are on the label should be there, but what else can this jar contain? It can be anything! In fact, any imaginable plant species in the world! So, what we need is a DNA fragment that we know all plants have, so that we can amplify this sequence fragment and we do not risk missing out something. At the same time this should be a **barcode**, i.e. a sequence that is different between all plant species so that we can uniquely identify its source. Sounds like a contradiction? What about a sequence that looks something like this:  \n",
        "\n",
        "```\n",
        "cccccccccccccccccUUUUUUUUUUUUUUUUUUCCCCCCCCCCCCCC\n",
        "```\n",
        "where `cccccccccc` and `CCCCCCCCCCC` are common for all plants and `UUUUUUUUU` fragment inside is unique for every plant species. What we can do now is to design molecular probes that will fish out `UUUUUUUU` based on it being flanked by `cccc` and `CCCCCC`. \n",
        "\n",
        "### ITS1 and ITS2\n",
        "\n",
        "Quite fortunately for us, such barcodes exist and the two most commonly used types of sequences used for plan identification are called ITS1 and ITS2. They look exactly as we want them to look. Well, with a caveat that sometimes the `UUUUUU` part is similar between some plants but the ITS-es are good enough for many applications. You can read more about ITS-es [here](https://en.wikipedia.org/wiki/Internal_transcribed_spacer).\n",
        "\n",
        "### Our task\n",
        "Here, we will see whether we can train CNN to be able to detect short sequence fragments (k-mers) coming from ITS and non-ITS sequences. "
      ]
    },
    {
      "cell_type": "code",
      "metadata": {
        "id": "cBBoquco9UFZ",
        "colab": {
          "base_uri": "https://localhost:8080/"
        },
        "outputId": "17190a6e-e22e-4253-adc8-00dd2a8ee1a7"
      },
      "source": [
        "!pip install biopython\n",
        "import os\n",
        "from Bio import SeqIO\n",
        "import numpy as np\n",
        "import pandas as pd\n",
        "\n",
        "# Download example GenBank data\n",
        "!wget https://www.dropbox.com/s/zjze886uove04s1/gbpln132.fasta\n",
        "\n",
        "# Read fasta file with sequences\n",
        "input_file = open('gbpln132.fasta', 'r')\n",
        "\n",
        "k_mer_size = 100 # we set our k-mer size here\n",
        "frac_to_take = 0.01 # fraction of sequences to work with due to memeory limits of Colab\n",
        "\n",
        "seq_lengths = []\n",
        "its_seq = []\n",
        "non_its_seq = []\n",
        "\n",
        "# Below we filter out sequences shorter than k-mer size and the ones \n",
        "# that contain Ns (we can change it later). We also populate its1, its2 and non-its\n",
        "# arrays. \n",
        "for sequence in SeqIO.parse(input_file, \"fasta\") :\n",
        "  seq_lengths.append(len(sequence.seq))\n",
        "  if len(sequence.seq) >= k_mer_size:\n",
        "    if 'ITS' in sequence.description.upper() and 'NN' not in str(sequence.seq.upper()):\n",
        "        its_seq.append(str(sequence.seq))\n",
        "    else:\n",
        "      if 'NN' not in str(sequence.seq.upper): # only remove sequences with more than one N in a consecutive stretch\n",
        "        non_its_seq.append(str(sequence.seq))\n",
        "input_file.close()"
      ],
      "execution_count": null,
      "outputs": [
        {
          "output_type": "stream",
          "name": "stdout",
          "text": [
            "Looking in indexes: https://pypi.org/simple, https://us-python.pkg.dev/colab-wheels/public/simple/\n",
            "Collecting biopython\n",
            "  Downloading biopython-1.79-cp37-cp37m-manylinux_2_17_x86_64.manylinux2014_x86_64.whl (2.6 MB)\n",
            "\u001b[K     |████████████████████████████████| 2.6 MB 7.2 MB/s \n",
            "\u001b[?25hRequirement already satisfied: numpy in /usr/local/lib/python3.7/dist-packages (from biopython) (1.21.6)\n",
            "Installing collected packages: biopython\n",
            "Successfully installed biopython-1.79\n",
            "--2022-10-25 09:57:36--  https://www.dropbox.com/s/zjze886uove04s1/gbpln132.fasta\n",
            "Resolving www.dropbox.com (www.dropbox.com)... 162.125.1.18, 2620:100:6016:18::a27d:112\n",
            "Connecting to www.dropbox.com (www.dropbox.com)|162.125.1.18|:443... connected.\n",
            "HTTP request sent, awaiting response... 302 Found\n",
            "Location: /s/raw/zjze886uove04s1/gbpln132.fasta [following]\n",
            "--2022-10-25 09:57:36--  https://www.dropbox.com/s/raw/zjze886uove04s1/gbpln132.fasta\n",
            "Reusing existing connection to www.dropbox.com:443.\n",
            "HTTP request sent, awaiting response... 302 Found\n",
            "Location: https://uc149947215586d51ce56e3110ae.dl.dropboxusercontent.com/cd/0/inline/Bvcgbm1iS08K0KK6tn82Qb1vJJAAgRREZC17GYWRImxo8cA3J9h_NXfzRmvYLUi1ED7ny5CRqWgrNLDe-4PKkmMu3UmS58DIVfrNdUXMQRaR575TalPgpJV1tXabTNdpdq9Ne0YsduehcaOCZt9s2iMQ9SWluml5O11KTXIYcVD3Ew/file# [following]\n",
            "--2022-10-25 09:57:36--  https://uc149947215586d51ce56e3110ae.dl.dropboxusercontent.com/cd/0/inline/Bvcgbm1iS08K0KK6tn82Qb1vJJAAgRREZC17GYWRImxo8cA3J9h_NXfzRmvYLUi1ED7ny5CRqWgrNLDe-4PKkmMu3UmS58DIVfrNdUXMQRaR575TalPgpJV1tXabTNdpdq9Ne0YsduehcaOCZt9s2iMQ9SWluml5O11KTXIYcVD3Ew/file\n",
            "Resolving uc149947215586d51ce56e3110ae.dl.dropboxusercontent.com (uc149947215586d51ce56e3110ae.dl.dropboxusercontent.com)... 162.125.1.15, 2620:100:6016:15::a27d:10f\n",
            "Connecting to uc149947215586d51ce56e3110ae.dl.dropboxusercontent.com (uc149947215586d51ce56e3110ae.dl.dropboxusercontent.com)|162.125.1.15|:443... connected.\n",
            "HTTP request sent, awaiting response... 200 OK\n",
            "Length: 115134086 (110M) [text/plain]\n",
            "Saving to: ‘gbpln132.fasta’\n",
            "\n",
            "gbpln132.fasta      100%[===================>] 109.80M  76.8MB/s    in 1.4s    \n",
            "\n",
            "2022-10-25 09:57:38 (76.8 MB/s) - ‘gbpln132.fasta’ saved [115134086/115134086]\n",
            "\n"
          ]
        }
      ]
    },
    {
      "cell_type": "code",
      "metadata": {
        "colab": {
          "base_uri": "https://localhost:8080/"
        },
        "id": "ZogP67p1j0zU",
        "outputId": "08da3d41-92bf-4732-8c18-b05cd2a2a80a"
      },
      "source": [
        "# we quickly check how many sequences do we have in every class\n",
        "print(len(its_seq), len(non_its_seq))"
      ],
      "execution_count": null,
      "outputs": [
        {
          "output_type": "stream",
          "name": "stdout",
          "text": [
            "5342 19053\n"
          ]
        }
      ]
    },
    {
      "cell_type": "code",
      "metadata": {
        "colab": {
          "base_uri": "https://localhost:8080/"
        },
        "id": "-jNtDN7348XF",
        "outputId": "32fc5413-13e9-4c19-d840-5b823e726e02"
      },
      "source": [
        "\n",
        "# Randomly select N non-its sequences to match the number of its1+its2 sequences\n",
        "import random\n",
        "its_len = len(its_seq)\n",
        "non_its_seq = random.sample(non_its_seq, its_len)\n",
        "print(\"ITS:\", len(its_seq))\n",
        "print(\"non-ITS:\", len(non_its_seq))"
      ],
      "execution_count": null,
      "outputs": [
        {
          "output_type": "stream",
          "name": "stdout",
          "text": [
            "ITS: 5342\n",
            "non-ITS: 5342\n"
          ]
        }
      ]
    },
    {
      "cell_type": "code",
      "metadata": {
        "colab": {
          "base_uri": "https://localhost:8080/",
          "height": 863
        },
        "id": "QAojcJ_WKomF",
        "outputId": "1e220a9b-c9a4-4852-86c8-f392dd4b41b8"
      },
      "source": [
        "# Here, we will plot sequence length distribution\n",
        "import seaborn as sns\n",
        "import matplotlib.pyplot as plt\n",
        "\n",
        "plt.figure(figsize=(20,15))\n",
        "sns.histplot(data = np.log10(seq_lengths), bins = 250)\n",
        "plt.show()"
      ],
      "execution_count": null,
      "outputs": [
        {
          "output_type": "display_data",
          "data": {
            "text/plain": [
              "<Figure size 1440x1080 with 1 Axes>"
            ],
            "image/png": "[encoded data removed]"
          },
          "metadata": {
            "needs_background": "light"
          }
        }
      ]
    },
    {
      "cell_type": "code",
      "metadata": {
        "id": "ye9_t9D4tsNA"
      },
      "source": [
        "def getKmers(sequence, size):\n",
        "    return [sequence[x:x+size].upper() for x in range(len(sequence) - size + 1)]\n",
        "\n",
        "# Given a sequence, get all possible k-mers of length l along it.\n",
        "its = []\n",
        "non_its = []\n",
        "for i in its_seq:\n",
        "  its.extend(getKmers(i, k_mer_size))\n",
        "  \n",
        "for i in non_its_seq:\n",
        "  non_its.extend(getKmers(i, k_mer_size))"
      ],
      "execution_count": null,
      "outputs": []
    },
    {
      "cell_type": "code",
      "metadata": {
        "colab": {
          "base_uri": "https://localhost:8080/"
        },
        "id": "IuMXG09m2B2k",
        "outputId": "75491dc6-0003-41ce-d4ee-9abb3f908c0b"
      },
      "source": [
        "print(\"Length of ITS:\", len(its))\n",
        "print(\"Length of non-ITS:\", len(non_its))"
      ],
      "execution_count": null,
      "outputs": [
        {
          "output_type": "stream",
          "name": "stdout",
          "text": [
            "Length of ITS: 3246108\n",
            "Length of non-ITS: 38643384\n"
          ]
        }
      ]
    },
    {
      "cell_type": "code",
      "metadata": {
        "colab": {
          "base_uri": "https://localhost:8080/"
        },
        "id": "r7DBGRqSByqH",
        "outputId": "86b94d65-3735-4af7-aedc-0a29c10a7a41"
      },
      "source": [
        "# Randomly pick up a subset of sequences \n",
        "import math\n",
        "its = random.sample(its, math.floor(len(its) * frac_to_take))\n",
        "non_its = random.sample(non_its, math.floor(len(non_its) * frac_to_take))\n",
        "print(\"Length of ITS:\", len(its))\n",
        "print(\"Length of non-ITS:\", len(non_its))\n",
        "print(\"First 2 k-mers in a class:\")\n",
        "print(\"ITS: \", its[0:2])\n",
        "print(\"non-ITS: \", non_its[0:2])"
      ],
      "execution_count": null,
      "outputs": [
        {
          "output_type": "stream",
          "name": "stdout",
          "text": [
            "Length of ITS: 32461\n",
            "Length of non-ITS: 386433\n",
            "First 2 k-mers in a class:\n",
            "ITS:  ['TCACGTTGATTACGTCCCTGCCCTTTGTACACACCGCCCGTCGCTACTACCGATTGAATGGCTTAGTGAGACTCTCGGATCGGGTTTTTGGAACCGGCAA', 'CGTGGGAGGGCTTGTCTCGGGCGATAAACCAACCCCCGGCGCGGAACGCGCCAAGGAATATCGTAATGAGATGGCCAGCCGCCAGTGCCCCGTTATTACG']\n",
            "non-ITS:  ['TTATTTATTTTTTTTTTTTAGAATGAAATTAGGAATGATTATGAAATAGAAAATTCTGAATTTTTTTAGAATTATTGTGAATCCATTTCCTTCGAATATT', 'ATTTCTACTATGTAACTATTGCTATTGTTCTTTTCGATTGCGTATGATTCTATTTCTCTTTGAATAAAAATGTATCGCATTGTTAAAAATACTTGCAACA']\n"
          ]
        }
      ]
    },
    {
      "cell_type": "code",
      "metadata": {
        "id": "UiLWsCM7RFYF"
      },
      "source": [
        "# Encode bases in our k-mers so that each of the 4 channels corresponds to \n",
        "# the probability of each of the four bases.\n",
        "\n",
        "def encodeSeq(seq):\n",
        "  dict = {'A':[1,0,0,0],\n",
        "            'T':[0,1,0,0],\n",
        "            'C':[0,0,1,0],\n",
        "            'G':[0,0,0,1],\n",
        "            'R':[.5,0,0,.5],\t         # A or G\n",
        "            'Y':[0,.5,.5,0],\t         # C or T\n",
        "            'S':[0,0,.5,.5],        \t # G or C\n",
        "            'W':[.5,.5,0,0],           # A or T\n",
        "            'K':[0,.5,0,.5],       \t   # G or T\n",
        "            'M':[.5,0,.5,0],\t         # A or C\n",
        "            'B':[0,.33,.33,.33],\t     # C or G or T\n",
        "            'D':[.33,.33,0,.33],\t     # A or G or T\n",
        "            'H':[.33,.33,.33,0],\t     # A or C or T\n",
        "            'V':[.33,0,.33,.33],\t     # A or C or G\n",
        "            'N':[.25,.25,.25,.25]      # A or T or C or G\n",
        "          }\n",
        "  seq = list(seq.upper())\n",
        "  encoded = [dict[base] for base in seq]\n",
        "  return encoded\n",
        "\n",
        "encoded_its = list(map(encodeSeq, its))\n",
        "encoded_non_its = list(map(encodeSeq, non_its))"
      ],
      "execution_count": null,
      "outputs": []
    },
    {
      "cell_type": "code",
      "metadata": {
        "colab": {
          "base_uri": "https://localhost:8080/"
        },
        "id": "tYFQsE88SdEj",
        "outputId": "5e3bc9af-3207-4ad6-f691-1482f5cdd170"
      },
      "source": [
        "print(\"First 2 encoded k-mers in a class:\")\n",
        "print(\"Lenghts of encoded ITS: \", len(encoded_its),  \", non-its: \", len(encoded_non_its))\n",
        "print(encoded_its[0:2])\n",
        "#print(encoded_its2[0:2])\n",
        "print(encoded_non_its[0:2])"
      ],
      "execution_count": null,
      "outputs": [
        {
          "output_type": "stream",
          "name": "stdout",
          "text": [
            "First 2 encoded k-mers in a class:\n",
            "Lenghts of encoded ITS:  32461 , non-its:  386433\n",
            "[[[0, 1, 0, 0], [0, 0, 1, 0], [1, 0, 0, 0], [0, 0, 1, 0], [0, 0, 0, 1], [0, 1, 0, 0], [0, 1, 0, 0], [0, 0, 0, 1], [1, 0, 0, 0], [0, 1, 0, 0], [0, 1, 0, 0], [1, 0, 0, 0], [0, 0, 1, 0], [0, 0, 0, 1], [0, 1, 0, 0], [0, 0, 1, 0], [0, 0, 1, 0], [0, 0, 1, 0], [0, 1, 0, 0], [0, 0, 0, 1], [0, 0, 1, 0], [0, 0, 1, 0], [0, 0, 1, 0], [0, 1, 0, 0], [0, 1, 0, 0], [0, 1, 0, 0], [0, 0, 0, 1], [0, 1, 0, 0], [1, 0, 0, 0], [0, 0, 1, 0], [1, 0, 0, 0], [0, 0, 1, 0], [1, 0, 0, 0], [0, 0, 1, 0], [0, 0, 1, 0], [0, 0, 0, 1], [0, 0, 1, 0], [0, 0, 1, 0], [0, 0, 1, 0], [0, 0, 0, 1], [0, 1, 0, 0], [0, 0, 1, 0], [0, 0, 0, 1], [0, 0, 1, 0], [0, 1, 0, 0], [1, 0, 0, 0], [0, 0, 1, 0], [0, 1, 0, 0], [1, 0, 0, 0], [0, 0, 1, 0], [0, 0, 1, 0], [0, 0, 0, 1], [1, 0, 0, 0], [0, 1, 0, 0], [0, 1, 0, 0], [0, 0, 0, 1], [1, 0, 0, 0], [1, 0, 0, 0], [0, 1, 0, 0], [0, 0, 0, 1], [0, 0, 0, 1], [0, 0, 1, 0], [0, 1, 0, 0], [0, 1, 0, 0], [1, 0, 0, 0], [0, 0, 0, 1], [0, 1, 0, 0], [0, 0, 0, 1], [1, 0, 0, 0], [0, 0, 0, 1], [1, 0, 0, 0], [0, 0, 1, 0], [0, 1, 0, 0], [0, 0, 1, 0], [0, 1, 0, 0], [0, 0, 1, 0], [0, 0, 0, 1], [0, 0, 0, 1], [1, 0, 0, 0], [0, 1, 0, 0], [0, 0, 1, 0], [0, 0, 0, 1], [0, 0, 0, 1], [0, 0, 0, 1], [0, 1, 0, 0], [0, 1, 0, 0], [0, 1, 0, 0], [0, 1, 0, 0], [0, 1, 0, 0], [0, 0, 0, 1], [0, 0, 0, 1], [1, 0, 0, 0], [1, 0, 0, 0], [0, 0, 1, 0], [0, 0, 1, 0], [0, 0, 0, 1], [0, 0, 0, 1], [0, 0, 1, 0], [1, 0, 0, 0], [1, 0, 0, 0]], [[0, 0, 1, 0], [0, 0, 0, 1], [0, 1, 0, 0], [0, 0, 0, 1], [0, 0, 0, 1], [0, 0, 0, 1], [1, 0, 0, 0], [0, 0, 0, 1], [0, 0, 0, 1], [0, 0, 0, 1], [0, 0, 1, 0], [0, 1, 0, 0], [0, 1, 0, 0], [0, 0, 0, 1], [0, 1, 0, 0], [0, 0, 1, 0], [0, 1, 0, 0], [0, 0, 1, 0], [0, 0, 0, 1], [0, 0, 0, 1], [0, 0, 0, 1], [0, 0, 1, 0], [0, 0, 0, 1], [1, 0, 0, 0], [0, 1, 0, 0], [1, 0, 0, 0], [1, 0, 0, 0], [1, 0, 0, 0], [0, 0, 1, 0], [0, 0, 1, 0], [1, 0, 0, 0], [1, 0, 0, 0], [0, 0, 1, 0], [0, 0, 1, 0], [0, 0, 1, 0], [0, 0, 1, 0], [0, 0, 1, 0], [0, 0, 0, 1], [0, 0, 0, 1], [0, 0, 1, 0], [0, 0, 0, 1], [0, 0, 1, 0], [0, 0, 0, 1], [0, 0, 0, 1], [1, 0, 0, 0], [1, 0, 0, 0], [0, 0, 1, 0], [0, 0, 0, 1], [0, 0, 1, 0], [0, 0, 0, 1], [0, 0, 1, 0], [0, 0, 1, 0], [1, 0, 0, 0], [1, 0, 0, 0], [0, 0, 0, 1], [0, 0, 0, 1], [1, 0, 0, 0], [1, 0, 0, 0], [0, 1, 0, 0], [1, 0, 0, 0], [0, 1, 0, 0], [0, 0, 1, 0], [0, 0, 0, 1], [0, 1, 0, 0], [1, 0, 0, 0], [1, 0, 0, 0], [0, 1, 0, 0], [0, 0, 0, 1], [1, 0, 0, 0], [0, 0, 0, 1], [1, 0, 0, 0], [0, 1, 0, 0], [0, 0, 0, 1], [0, 0, 0, 1], [0, 0, 1, 0], [0, 0, 1, 0], [1, 0, 0, 0], [0, 0, 0, 1], [0, 0, 1, 0], [0, 0, 1, 0], [0, 0, 0, 1], [0, 0, 1, 0], [0, 0, 1, 0], [1, 0, 0, 0], [0, 0, 0, 1], [0, 1, 0, 0], [0, 0, 0, 1], [0, 0, 1, 0], [0, 0, 1, 0], [0, 0, 1, 0], [0, 0, 1, 0], [0, 0, 0, 1], [0, 1, 0, 0], [0, 1, 0, 0], [1, 0, 0, 0], [0, 1, 0, 0], [0, 1, 0, 0], [1, 0, 0, 0], [0, 0, 1, 0], [0, 0, 0, 1]]]\n",
            "[[[0, 1, 0, 0], [0, 1, 0, 0], [1, 0, 0, 0], [0, 1, 0, 0], [0, 1, 0, 0], [0, 1, 0, 0], [1, 0, 0, 0], [0, 1, 0, 0], [0, 1, 0, 0], [0, 1, 0, 0], [0, 1, 0, 0], [0, 1, 0, 0], [0, 1, 0, 0], [0, 1, 0, 0], [0, 1, 0, 0], [0, 1, 0, 0], [0, 1, 0, 0], [0, 1, 0, 0], [0, 1, 0, 0], [1, 0, 0, 0], [0, 0, 0, 1], [1, 0, 0, 0], [1, 0, 0, 0], [0, 1, 0, 0], [0, 0, 0, 1], [1, 0, 0, 0], [1, 0, 0, 0], [1, 0, 0, 0], [0, 1, 0, 0], [0, 1, 0, 0], [1, 0, 0, 0], [0, 0, 0, 1], [0, 0, 0, 1], [1, 0, 0, 0], [1, 0, 0, 0], [0, 1, 0, 0], [0, 0, 0, 1], [1, 0, 0, 0], [0, 1, 0, 0], [0, 1, 0, 0], [1, 0, 0, 0], [0, 1, 0, 0], [0, 0, 0, 1], [1, 0, 0, 0], [1, 0, 0, 0], [1, 0, 0, 0], [0, 1, 0, 0], [1, 0, 0, 0], [0, 0, 0, 1], [1, 0, 0, 0], [1, 0, 0, 0], [1, 0, 0, 0], [1, 0, 0, 0], [0, 1, 0, 0], [0, 1, 0, 0], [0, 0, 1, 0], [0, 1, 0, 0], [0, 0, 0, 1], [1, 0, 0, 0], [1, 0, 0, 0], [0, 1, 0, 0], [0, 1, 0, 0], [0, 1, 0, 0], [0, 1, 0, 0], [0, 1, 0, 0], [0, 1, 0, 0], [0, 1, 0, 0], [1, 0, 0, 0], [0, 0, 0, 1], [1, 0, 0, 0], [1, 0, 0, 0], [0, 1, 0, 0], [0, 1, 0, 0], [1, 0, 0, 0], [0, 1, 0, 0], [0, 1, 0, 0], [0, 0, 0, 1], [0, 1, 0, 0], [0, 0, 0, 1], [1, 0, 0, 0], [1, 0, 0, 0], [0, 1, 0, 0], [0, 0, 1, 0], [0, 0, 1, 0], [1, 0, 0, 0], [0, 1, 0, 0], [0, 1, 0, 0], [0, 1, 0, 0], [0, 0, 1, 0], [0, 0, 1, 0], [0, 1, 0, 0], [0, 1, 0, 0], [0, 0, 1, 0], [0, 0, 0, 1], [1, 0, 0, 0], [1, 0, 0, 0], [0, 1, 0, 0], [1, 0, 0, 0], [0, 1, 0, 0], [0, 1, 0, 0]], [[1, 0, 0, 0], [0, 1, 0, 0], [0, 1, 0, 0], [0, 1, 0, 0], [0, 0, 1, 0], [0, 1, 0, 0], [1, 0, 0, 0], [0, 0, 1, 0], [0, 1, 0, 0], [1, 0, 0, 0], [0, 1, 0, 0], [0, 0, 0, 1], [0, 1, 0, 0], [1, 0, 0, 0], [1, 0, 0, 0], [0, 0, 1, 0], [0, 1, 0, 0], [1, 0, 0, 0], [0, 1, 0, 0], [0, 1, 0, 0], [0, 0, 0, 1], [0, 0, 1, 0], [0, 1, 0, 0], [1, 0, 0, 0], [0, 1, 0, 0], [0, 1, 0, 0], [0, 0, 0, 1], [0, 1, 0, 0], [0, 1, 0, 0], [0, 0, 1, 0], [0, 1, 0, 0], [0, 1, 0, 0], [0, 1, 0, 0], [0, 1, 0, 0], [0, 0, 1, 0], [0, 0, 0, 1], [1, 0, 0, 0], [0, 1, 0, 0], [0, 1, 0, 0], [0, 0, 0, 1], [0, 0, 1, 0], [0, 0, 0, 1], [0, 1, 0, 0], [1, 0, 0, 0], [0, 1, 0, 0], [0, 0, 0, 1], [1, 0, 0, 0], [0, 1, 0, 0], [0, 1, 0, 0], [0, 0, 1, 0], [0, 1, 0, 0], [1, 0, 0, 0], [0, 1, 0, 0], [0, 1, 0, 0], [0, 1, 0, 0], [0, 0, 1, 0], [0, 1, 0, 0], [0, 0, 1, 0], [0, 1, 0, 0], [0, 1, 0, 0], [0, 1, 0, 0], [0, 0, 0, 1], [1, 0, 0, 0], [1, 0, 0, 0], [0, 1, 0, 0], [1, 0, 0, 0], [1, 0, 0, 0], [1, 0, 0, 0], [1, 0, 0, 0], [1, 0, 0, 0], [0, 1, 0, 0], [0, 0, 0, 1], [0, 1, 0, 0], [1, 0, 0, 0], [0, 1, 0, 0], [0, 0, 1, 0], [0, 0, 0, 1], [0, 0, 1, 0], [1, 0, 0, 0], [0, 1, 0, 0], [0, 1, 0, 0], [0, 0, 0, 1], [0, 1, 0, 0], [0, 1, 0, 0], [1, 0, 0, 0], [1, 0, 0, 0], [1, 0, 0, 0], [1, 0, 0, 0], [1, 0, 0, 0], [0, 1, 0, 0], [1, 0, 0, 0], [0, 0, 1, 0], [0, 1, 0, 0], [0, 1, 0, 0], [0, 0, 0, 1], [0, 0, 1, 0], [1, 0, 0, 0], [1, 0, 0, 0], [0, 0, 1, 0], [1, 0, 0, 0]]]\n"
          ]
        }
      ]
    },
    {
      "cell_type": "code",
      "metadata": {
        "colab": {
          "base_uri": "https://localhost:8080/"
        },
        "id": "3R7txzEgfJoB",
        "outputId": "5995a6c6-4d00-4f19-86b4-406569327ab4"
      },
      "source": [
        "# Here, we will one-hot encode labels\n",
        "from sklearn.preprocessing import LabelEncoder, OneHotEncoder\n",
        "labels = list(np.ones(len(encoded_its))) + list(np.zeros(len(encoded_non_its)))\n",
        "\n",
        "# One-hot encode Sequences\n",
        "#integer_encoder = LabelEncoder()  \n",
        "one_hot_encoder = OneHotEncoder()  \n",
        "labels = np.array(labels).reshape(-1, 1)\n",
        "input_labels = one_hot_encoder.fit_transform(labels).toarray()\n",
        "print('Labels:\\n', labels.T) \n",
        "print('One-hot encoded labels:\\n', input_labels.T)"
      ],
      "execution_count": null,
      "outputs": [
        {
          "output_type": "stream",
          "name": "stdout",
          "text": [
            "Labels:\n",
            " [[1. 1. 1. ... 0. 0. 0.]]\n",
            "One-hot encoded labels:\n",
            " [[0. 0. 0. ... 1. 1. 1.]\n",
            " [1. 1. 1. ... 0. 0. 0.]]\n"
          ]
        }
      ]
    },
    {
      "cell_type": "code",
      "metadata": {
        "id": "t_UBx9oHhg2e",
        "colab": {
          "base_uri": "https://localhost:8080/"
        },
        "outputId": "f4e0b297-6089-4dc6-fb7e-060ed5068239"
      },
      "source": [
        "# Prepare the training set\n",
        "input_features = np.array(encoded_its + encoded_non_its)\n",
        "print(input_features.shape)\n",
        "#del(encoded_its)\n",
        "#del(encoded_non_its)"
      ],
      "execution_count": null,
      "outputs": [
        {
          "output_type": "stream",
          "name": "stdout",
          "text": [
            "(418894, 100, 4)\n"
          ]
        }
      ]
    },
    {
      "cell_type": "code",
      "metadata": {
        "id": "g_oZDpnvPAQY",
        "colab": {
          "base_uri": "https://localhost:8080/"
        },
        "outputId": "87ed2641-508f-4e4f-b3ff-90addd1a133d"
      },
      "source": [
        "from sklearn.model_selection import train_test_split\n",
        "train_features, test_features, train_labels, test_labels = train_test_split(input_features, input_labels, test_size = 0.25, random_state = 42)\n",
        "print(train_features[0])\n",
        "print(train_features.shape)"
      ],
      "execution_count": null,
      "outputs": [
        {
          "output_type": "stream",
          "name": "stdout",
          "text": [
            "[[0. 1. 0. 0.]\n",
            " [0. 0. 1. 0.]\n",
            " [1. 0. 0. 0.]\n",
            " [0. 0. 1. 0.]\n",
            " [0. 1. 0. 0.]\n",
            " [1. 0. 0. 0.]\n",
            " [0. 1. 0. 0.]\n",
            " [1. 0. 0. 0.]\n",
            " [0. 0. 1. 0.]\n",
            " [0. 0. 1. 0.]\n",
            " [0. 0. 1. 0.]\n",
            " [0. 1. 0. 0.]\n",
            " [0. 0. 0. 1.]\n",
            " [1. 0. 0. 0.]\n",
            " [1. 0. 0. 0.]\n",
            " [1. 0. 0. 0.]\n",
            " [0. 0. 0. 1.]\n",
            " [0. 0. 1. 0.]\n",
            " [1. 0. 0. 0.]\n",
            " [1. 0. 0. 0.]\n",
            " [1. 0. 0. 0.]\n",
            " [1. 0. 0. 0.]\n",
            " [0. 0. 1. 0.]\n",
            " [0. 0. 1. 0.]\n",
            " [1. 0. 0. 0.]\n",
            " [1. 0. 0. 0.]\n",
            " [1. 0. 0. 0.]\n",
            " [1. 0. 0. 0.]\n",
            " [0. 0. 0. 1.]\n",
            " [0. 0. 1. 0.]\n",
            " [0. 0. 1. 0.]\n",
            " [0. 1. 0. 0.]\n",
            " [0. 0. 1. 0.]\n",
            " [0. 0. 0. 1.]\n",
            " [1. 0. 0. 0.]\n",
            " [0. 1. 0. 0.]\n",
            " [0. 1. 0. 0.]\n",
            " [1. 0. 0. 0.]\n",
            " [0. 0. 0. 1.]\n",
            " [1. 0. 0. 0.]\n",
            " [0. 0. 1. 0.]\n",
            " [1. 0. 0. 0.]\n",
            " [1. 0. 0. 0.]\n",
            " [1. 0. 0. 0.]\n",
            " [0. 0. 1. 0.]\n",
            " [0. 0. 0. 1.]\n",
            " [1. 0. 0. 0.]\n",
            " [0. 1. 0. 0.]\n",
            " [0. 0. 0. 1.]\n",
            " [0. 0. 1. 0.]\n",
            " [1. 0. 0. 0.]\n",
            " [1. 0. 0. 0.]\n",
            " [1. 0. 0. 0.]\n",
            " [0. 0. 1. 0.]\n",
            " [1. 0. 0. 0.]\n",
            " [0. 0. 1. 0.]\n",
            " [1. 0. 0. 0.]\n",
            " [1. 0. 0. 0.]\n",
            " [1. 0. 0. 0.]\n",
            " [0. 0. 0. 1.]\n",
            " [1. 0. 0. 0.]\n",
            " [1. 0. 0. 0.]\n",
            " [0. 0. 0. 1.]\n",
            " [1. 0. 0. 0.]\n",
            " [1. 0. 0. 0.]\n",
            " [1. 0. 0. 0.]\n",
            " [1. 0. 0. 0.]\n",
            " [1. 0. 0. 0.]\n",
            " [0. 1. 0. 0.]\n",
            " [0. 0. 0. 1.]\n",
            " [1. 0. 0. 0.]\n",
            " [1. 0. 0. 0.]\n",
            " [1. 0. 0. 0.]\n",
            " [0. 1. 0. 0.]\n",
            " [0. 0. 0. 1.]\n",
            " [1. 0. 0. 0.]\n",
            " [1. 0. 0. 0.]\n",
            " [1. 0. 0. 0.]\n",
            " [0. 1. 0. 0.]\n",
            " [0. 1. 0. 0.]\n",
            " [0. 0. 0. 1.]\n",
            " [0. 0. 0. 1.]\n",
            " [0. 1. 0. 0.]\n",
            " [0. 1. 0. 0.]\n",
            " [1. 0. 0. 0.]\n",
            " [0. 0. 1. 0.]\n",
            " [0. 1. 0. 0.]\n",
            " [0. 1. 0. 0.]\n",
            " [0. 1. 0. 0.]\n",
            " [0. 0. 1. 0.]\n",
            " [1. 0. 0. 0.]\n",
            " [0. 0. 0. 1.]\n",
            " [0. 1. 0. 0.]\n",
            " [1. 0. 0. 0.]\n",
            " [0. 1. 0. 0.]\n",
            " [0. 1. 0. 0.]\n",
            " [1. 0. 0. 0.]\n",
            " [0. 0. 1. 0.]\n",
            " [0. 0. 1. 0.]\n",
            " [1. 0. 0. 0.]]\n",
            "(283738, 100, 4)\n"
          ]
        }
      ]
    },
    {
      "cell_type": "code",
      "metadata": {
        "id": "ozutvEDshwmn",
        "colab": {
          "base_uri": "https://localhost:8080/"
        },
        "outputId": "8ad020fe-1811-4b7c-b688-ddea1ea5454f"
      },
      "source": [
        "import tensorflow as tf\n",
        "from tensorflow.keras.optimizers import Adam, Adadelta, SGD\n",
        "from keras.layers import Conv1D, Dense, MaxPooling1D, Flatten\n",
        "from keras.models import Sequential\n",
        "from keras.regularizers import l2, l1\n",
        "\n",
        "tf.compat.v1.disable_eager_execution()\n",
        "\n",
        "model = Sequential()\n",
        "\n",
        "model.add(Conv1D(filters = 64, kernel_size = 20, padding = 'same', \n",
        "                 kernel_initializer = 'he_uniform', \n",
        "                 input_shape=(train_features.shape[1], 4), activation = 'relu',\n",
        "                 kernel_regularizer=l2(0.001)))\n",
        "model.add(Conv1D(filters = 32, kernel_size = 10, padding = 'same', \n",
        "                 kernel_initializer = 'he_uniform', \n",
        "                 activation = 'relu',\n",
        "                 kernel_regularizer=l2(0.001)))\n",
        "model.add(MaxPooling1D(pool_size = 2))\n",
        "\n",
        "\n",
        "model.add(Flatten())\n",
        "model.add(Dense(16, kernel_initializer= 'he_uniform', activation = 'relu',\n",
        "                kernel_regularizer=l2(0.001)))\n",
        "model.add(Dense(2, activation='softmax'))\n",
        "\n",
        "epochs = 20\n",
        "lrate = 0.001\n",
        "decay = lrate / epochs\n",
        "sgd = SGD(lr = lrate, momentum = 0.9, decay = decay, nesterov = False)\n",
        "model.compile(loss = 'categorical_crossentropy', optimizer = sgd, metrics = ['categorical_accuracy'])\n",
        "model.summary()"
      ],
      "execution_count": null,
      "outputs": [
        {
          "output_type": "stream",
          "name": "stdout",
          "text": [
            "Model: \"sequential_6\"\n",
            "_________________________________________________________________\n",
            " Layer (type)                Output Shape              Param #   \n",
            "=================================================================\n",
            " conv1d_12 (Conv1D)          (None, 100, 64)           5184      \n",
            "                                                                 \n",
            " conv1d_13 (Conv1D)          (None, 100, 32)           20512     \n",
            "                                                                 \n",
            " max_pooling1d_6 (MaxPooling  (None, 50, 32)           0         \n",
            " 1D)                                                             \n",
            "                                                                 \n",
            " flatten_6 (Flatten)         (None, 1600)              0         \n",
            "                                                                 \n",
            " dense_12 (Dense)            (None, 16)                25616     \n",
            "                                                                 \n",
            " dense_13 (Dense)            (None, 2)                 34        \n",
            "                                                                 \n",
            "=================================================================\n",
            "Total params: 51,346\n",
            "Trainable params: 51,346\n",
            "Non-trainable params: 0\n",
            "_________________________________________________________________\n"
          ]
        },
        {
          "output_type": "stream",
          "name": "stderr",
          "text": [
            "/usr/local/lib/python3.7/dist-packages/keras/optimizer_v2/gradient_descent.py:102: UserWarning: The `lr` argument is deprecated, use `learning_rate` instead.\n",
            "  super(SGD, self).__init__(name, **kwargs)\n"
          ]
        }
      ]
    },
    {
      "cell_type": "code",
      "metadata": {
        "id": "gafzgsZyjxBR",
        "colab": {
          "base_uri": "https://localhost:8080/"
        },
        "outputId": "2ddb4185-7d0f-4120-c690-fe639d7b75ab"
      },
      "source": [
        "# Training phase\n",
        "hp_epochs = epochs\n",
        "hp_batch_size = 32\n",
        "hp_val_split = 0.2\n",
        "\n",
        "cnn_model = model.fit(x = train_features, \n",
        "                      y = train_labels,\n",
        "                      epochs = hp_epochs,\n",
        "                      batch_size = hp_batch_size,\n",
        "                      shuffle = True,\n",
        "                      validation_split = hp_val_split\n",
        "                      )"
      ],
      "execution_count": null,
      "outputs": [
        {
          "output_type": "stream",
          "name": "stdout",
          "text": [
            "Train on 226990 samples, validate on 56748 samples\n",
            "Epoch 1/20\n",
            "226990/226990 [==============================] - ETA: 0s - loss: 0.3266 - categorical_accuracy: 0.9505"
          ]
        },
        {
          "output_type": "stream",
          "name": "stderr",
          "text": [
            "/usr/local/lib/python3.7/dist-packages/keras/engine/training_v1.py:2057: UserWarning: `Model.state_updates` will be removed in a future version. This property should not be used in TensorFlow 2.0, as `updates` are applied automatically.\n",
            "  updates = self.state_updates\n"
          ]
        },
        {
          "output_type": "stream",
          "name": "stdout",
          "text": [
            "\b\b\b\b\b\b\b\b\b\b\b\b\b\b\b\b\b\b\b\b\b\b\b\b\b\b\b\b\b\b\b\b\b\b\b\b\b\b\b\b\b\b\b\b\b\b\b\b\b\b\b\b\b\b\b\b\b\b\b\b\b\b\b\b\b\b\b\b\b\b\b\b\b\b\b\b\b\b\b\b\b\b\b\b\b\b\b\b\b\b\b\b\b\b\b\b\b\b\b\b\b\b\r226990/226990 [==============================] - 128s 566us/sample - loss: 0.3266 - categorical_accuracy: 0.9505 - val_loss: 0.3066 - val_categorical_accuracy: 0.9575\n",
            "Epoch 2/20\n",
            "226990/226990 [==============================] - 117s 516us/sample - loss: 0.2686 - categorical_accuracy: 0.9620 - val_loss: 0.2500 - val_categorical_accuracy: 0.9641\n",
            "Epoch 3/20\n",
            "226990/226990 [==============================] - 118s 518us/sample - loss: 0.2367 - categorical_accuracy: 0.9660 - val_loss: 0.2241 - val_categorical_accuracy: 0.9679\n",
            "Epoch 4/20\n",
            "226990/226990 [==============================] - 117s 517us/sample - loss: 0.2148 - categorical_accuracy: 0.9685 - val_loss: 0.2056 - val_categorical_accuracy: 0.9696\n",
            "Epoch 5/20\n",
            "226990/226990 [==============================] - 117s 514us/sample - loss: 0.1988 - categorical_accuracy: 0.9703 - val_loss: 0.1924 - val_categorical_accuracy: 0.9707\n",
            "Epoch 6/20\n",
            "226990/226990 [==============================] - 120s 527us/sample - loss: 0.1861 - categorical_accuracy: 0.9718 - val_loss: 0.1819 - val_categorical_accuracy: 0.9718\n",
            "Epoch 7/20\n",
            "226990/226990 [==============================] - 117s 517us/sample - loss: 0.1759 - categorical_accuracy: 0.9731 - val_loss: 0.1741 - val_categorical_accuracy: 0.9722\n",
            "Epoch 8/20\n",
            "226990/226990 [==============================] - 120s 528us/sample - loss: 0.1674 - categorical_accuracy: 0.9742 - val_loss: 0.1701 - val_categorical_accuracy: 0.9734\n",
            "Epoch 9/20\n",
            "226990/226990 [==============================] - 117s 514us/sample - loss: 0.1604 - categorical_accuracy: 0.9747 - val_loss: 0.1603 - val_categorical_accuracy: 0.9744\n",
            "Epoch 10/20\n",
            "226990/226990 [==============================] - 118s 518us/sample - loss: 0.1543 - categorical_accuracy: 0.9756 - val_loss: 0.1587 - val_categorical_accuracy: 0.9728\n",
            "Epoch 11/20\n",
            "226990/226990 [==============================] - 118s 522us/sample - loss: 0.1493 - categorical_accuracy: 0.9764 - val_loss: 0.1508 - val_categorical_accuracy: 0.9745\n",
            "Epoch 12/20\n",
            "226990/226990 [==============================] - 117s 516us/sample - loss: 0.1443 - categorical_accuracy: 0.9768 - val_loss: 0.1544 - val_categorical_accuracy: 0.9738\n",
            "Epoch 13/20\n",
            "226990/226990 [==============================] - 119s 524us/sample - loss: 0.1404 - categorical_accuracy: 0.9775 - val_loss: 0.1439 - val_categorical_accuracy: 0.9767\n",
            "Epoch 14/20\n",
            "226990/226990 [==============================] - 118s 521us/sample - loss: 0.1370 - categorical_accuracy: 0.9779 - val_loss: 0.1431 - val_categorical_accuracy: 0.9746\n",
            "Epoch 15/20\n",
            "226990/226990 [==============================] - 116s 512us/sample - loss: 0.1335 - categorical_accuracy: 0.9782 - val_loss: 0.1367 - val_categorical_accuracy: 0.9775\n",
            "Epoch 16/20\n",
            "226990/226990 [==============================] - 119s 524us/sample - loss: 0.1309 - categorical_accuracy: 0.9786 - val_loss: 0.1371 - val_categorical_accuracy: 0.9751\n",
            "Epoch 17/20\n",
            "226990/226990 [==============================] - 116s 511us/sample - loss: 0.1279 - categorical_accuracy: 0.9791 - val_loss: 0.1320 - val_categorical_accuracy: 0.9774\n",
            "Epoch 18/20\n",
            "226990/226990 [==============================] - 118s 519us/sample - loss: 0.1253 - categorical_accuracy: 0.9794 - val_loss: 0.1432 - val_categorical_accuracy: 0.9719\n",
            "Epoch 19/20\n",
            "226990/226990 [==============================] - 117s 514us/sample - loss: 0.1235 - categorical_accuracy: 0.9796 - val_loss: 0.1295 - val_categorical_accuracy: 0.9763\n",
            "Epoch 20/20\n",
            "226990/226990 [==============================] - 118s 519us/sample - loss: 0.1212 - categorical_accuracy: 0.9799 - val_loss: 0.1282 - val_categorical_accuracy: 0.9777\n"
          ]
        }
      ]
    },
    {
      "cell_type": "code",
      "metadata": {
        "id": "e1Y4v63GcUgj",
        "colab": {
          "base_uri": "https://localhost:8080/",
          "height": 281
        },
        "outputId": "24766ce3-6649-4501-8a80-bce6fb9f089c"
      },
      "source": [
        "#model.save_weights('its_cnn_weights.h5', overwrite = True)\n",
        "from google.colab import drive\n",
        "import keras\n",
        "\n",
        "#drive.mount('/content/drive')\n",
        "#model.save('/content/drive/its_cnn_model.h5')\n",
        "#model = keras.models.load_model('its_cnn_model.h5')\n",
        "loss = cnn_model.history['loss']\n",
        "val_loss = cnn_model.history['val_loss']\n",
        "epochs = range(hp_epochs)\n",
        "plt.figure()\n",
        "plt.plot(epochs, loss, 'bo', label='Training loss')\n",
        "plt.plot(epochs, val_loss, 'b', label='Validation loss')\n",
        "plt.title('Training and validation loss')\n",
        "plt.legend()\n",
        "plt.show()"
      ],
      "execution_count": null,
      "outputs": [
        {
          "output_type": "display_data",
          "data": {
            "text/plain": [
              "<Figure size 432x288 with 1 Axes>"
            ],
            "image/png": "[encoded data removed]"
          },
          "metadata": {
            "needs_background": "light"
          }
        }
      ]
    },
    {
      "cell_type": "code",
      "metadata": {
        "id": "y6OmOW6sF7TT",
        "colab": {
          "base_uri": "https://localhost:8080/",
          "height": 618
        },
        "outputId": "8378aaaf-481b-4c69-b917-fd7ee170d3cd"
      },
      "source": [
        "from sklearn.metrics import confusion_matrix\n",
        "import itertools\n",
        "\n",
        "plt.figure(figsize=(10,8))\n",
        "\n",
        "predicted_labels = model.predict(np.stack(test_features))\n",
        "cm = confusion_matrix(np.argmax(test_labels, axis=1), \n",
        "                      np.argmax(predicted_labels, axis=1))\n",
        "print('Confusion matrix:\\n',cm)\n",
        "\n",
        "cm = cm.astype('float') / cm.sum(axis = 1)[:, np.newaxis]\n",
        "\n",
        "plt.imshow(cm, cmap=plt.cm.Accent)\n",
        "plt.title('Normalized confusion matrix')\n",
        "plt.colorbar()\n",
        "plt.xlabel('Actual class')\n",
        "plt.ylabel('Predicted class')\n",
        "plt.xticks([0, 1]); plt.yticks([0, 1])\n",
        "plt.grid('off')\n",
        "for i, j in itertools.product(range(cm.shape[0]), range(cm.shape[1])):\n",
        "    plt.text(j, i, format(cm[i, j], '.2f'),\n",
        "             horizontalalignment='center',\n",
        "             color='white' if cm[i, j] > 0.5 else 'black')\n",
        "plt.show()\n"
      ],
      "execution_count": null,
      "outputs": [
        {
          "output_type": "stream",
          "name": "stderr",
          "text": [
            "/usr/local/lib/python3.7/dist-packages/keras/engine/training_v1.py:2079: UserWarning: `Model.state_updates` will be removed in a future version. This property should not be used in TensorFlow 2.0, as `updates` are applied automatically.\n",
            "  updates=self.state_updates,\n"
          ]
        },
        {
          "output_type": "stream",
          "name": "stdout",
          "text": [
            "Confusion matrix:\n",
            " [[85567   915]\n",
            " [ 1124  6974]]\n"
          ]
        },
        {
          "output_type": "display_data",
          "data": {
            "text/plain": [
              "<Figure size 720x576 with 2 Axes>"
            ],
            "image/png": "[encoded data removed]"
          },
          "metadata": {
            "needs_background": "light"
          }
        }
      ]
    },
    {
      "cell_type": "code",
      "metadata": {
        "id": "HzsbuZ7YGTSM",
        "colab": {
          "base_uri": "https://localhost:8080/"
        },
        "outputId": "359f678c-2479-4a3c-8890-359f05c09ab4"
      },
      "source": [
        "scores = model.evaluate(test_features, test_labels, verbose=0)\n",
        "print(\"Accuracy: %.2f%%\" % (scores[1] * 100))"
      ],
      "execution_count": null,
      "outputs": [
        {
          "output_type": "stream",
          "name": "stdout",
          "text": [
            "Accuracy: 97.84%\n"
          ]
        }
      ]
    },
    {
      "cell_type": "code",
      "metadata": {
        "id": "uL-93J0OGhqT"
      },
      "source": [
        "import keras.backend as K\n",
        "\n",
        "def compute_salient_bases(model, x):\n",
        "    input_tensors = [model.input]\n",
        "    gradients = model.optimizer.get_gradients(model.output[0][1], model.input)\n",
        "    compute_gradients = K.function(inputs = input_tensors, outputs = gradients)\n",
        "    \n",
        "    x_value = np.expand_dims(x, axis=0)\n",
        "    gradients = compute_gradients([x_value])[0][0]\n",
        "    sal = np.clip(np.sum(np.multiply(gradients,x), axis=1),a_min=0, a_max=None)\n",
        "    return sal"
      ],
      "execution_count": null,
      "outputs": []
    },
    {
      "cell_type": "code",
      "metadata": {
        "id": "3s-7vEZVGjAl",
        "colab": {
          "base_uri": "https://localhost:8080/",
          "height": 404
        },
        "outputId": "ed66de83-32af-4103-b91a-d4a5b70ea0a1"
      },
      "source": [
        "K.set_learning_phase(1) #set learning phase\n",
        "sals = []\n",
        "for sequence_index in range(0,10):\n",
        "  sals.append(compute_salient_bases(model, input_features[sequence_index]))\n",
        "\n",
        "sal = sals[0]\n",
        "#print(sals)\n",
        "\n",
        "plt.figure(figsize=[16,5])\n",
        "barlist = plt.bar(np.arange(len(sal)), sal)\n",
        "[barlist[i].set_color('C1') for i in range(0,len(sal))]\n",
        "plt.xlabel('Bases')\n",
        "plt.ylabel('Saliency')\n",
        "plt.title('Saliency map');\n",
        "plt.show()"
      ],
      "execution_count": null,
      "outputs": [
        {
          "output_type": "stream",
          "name": "stderr",
          "text": [
            "/usr/local/lib/python3.7/dist-packages/keras/backend.py:450: UserWarning: `tf.keras.backend.set_learning_phase` is deprecated and will be removed after 2020-10-11. To update it, simply pass a True/False value to the `training` argument of the `__call__` method of your layer or model.\n",
            "  warnings.warn('`tf.keras.backend.set_learning_phase` is deprecated and '\n"
          ]
        },
        {
          "output_type": "display_data",
          "data": {
            "text/plain": [
              "<Figure size 1152x360 with 1 Axes>"
            ],
            "image/png": "[encoded data removed]"
          },
          "metadata": {
            "needs_background": "light"
          }
        }
      ]
    }
  ]
}
